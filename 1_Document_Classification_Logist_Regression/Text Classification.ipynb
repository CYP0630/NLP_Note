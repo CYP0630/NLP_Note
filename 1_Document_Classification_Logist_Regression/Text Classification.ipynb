{
 "cells": [
  {
   "cell_type": "markdown",
   "metadata": {},
   "source": [
    "# HM1: Text Classification\n",
    "\n",
    "### Name: [Yupeng Cao]\n",
    "### ID: [10454637]"
   ]
  },
  {
   "cell_type": "markdown",
   "metadata": {},
   "source": [
    "---\n",
    "# Data Preparation"
   ]
  },
  {
   "cell_type": "markdown",
   "metadata": {},
   "source": [
    "##  1.1 Preprocess data and Construct examples\n"
   ]
  },
  {
   "cell_type": "code",
   "execution_count": 1,
   "metadata": {},
   "outputs": [],
   "source": [
    "import re\n",
    "import numpy as np\n",
    "import scipy\n",
    "import pandas as pd\n",
    "from sklearn.utils import shuffle\n",
    "import matplotlib.pyplot as plt"
   ]
  },
  {
   "cell_type": "code",
   "execution_count": 2,
   "metadata": {},
   "outputs": [],
   "source": [
    "file_1 = 'data/28054-0.txt' #Define File Path\n",
    "file_2 = 'data/pg31100.txt'\n",
    "file_3 = 'data/pg1661.txt'\n",
    "\n",
    "#Define a function to process raw data\n",
    "#Inputs:\n",
    "#       filepath: the location where you put data.\n",
    "def txt2paragraph(filepath):\n",
    "    \n",
    "    url_reg  = r'[a-z]*[:.]+\\S+' #Regular Expression for remove url\n",
    "    punctuation = '.!,;:?\"\"\\'''*#@“'#Regular Expression for remove symbol\n",
    "    \n",
    "    #Load file\n",
    "    with open(filepath, \"r\", encoding=\"UTF-8\") as file:\n",
    "        lines = file.read()\n",
    "    new = lines.split(\"\\n\\n\") #Split file into paragraphy\n",
    "    \n",
    "    #Preprocess for each paragraphy\n",
    "    for para in range(len(new)):\n",
    "        new[para] = new[para].lower().replace('\\n', '') #remove \\n\n",
    "        new[para] = re.sub(url_reg, '', new[para]) #remove url\n",
    "        new[para] = new[para].strip() #remove blank space\n",
    "        new[para] = re.sub(r'\\d+', '', new[para]) #remove digit\n",
    "        new[para] = re.sub(r'[{}]+'.format(punctuation),'',new[para]) #remove puncutation and symbol\n",
    "\n",
    "    #Double check \n",
    "    while '' in new:\n",
    "        new.remove('')\n",
    "    #Return the results\n",
    "    return new\n",
    "\n",
    "#Remove the irrevelant information at the begin and end of the E-Book.\n",
    "data_1 = txt2paragraph(file_1)[19:5959]\n",
    "data_2 = txt2paragraph(file_2)[29:11047]\n",
    "data_3 = txt2paragraph(file_3)[14:1986]"
   ]
  },
  {
   "cell_type": "code",
   "execution_count": 3,
   "metadata": {},
   "outputs": [
    {
     "name": "stdout",
     "output_type": "stream",
     "text": [
      "5940 text data belongs to Fyodor Dostoyevsky\n",
      "11018 text data belongs to Jane Auste\n",
      "1972 text data belongs to Arthur Conan Doyle\n"
     ]
    }
   ],
   "source": [
    "#\n",
    "#Construct the dataset by using three sub-data from last step:\n",
    "#    1. Construct the dataframe for each part by using Pandas.DataFrame\n",
    "#    2. Connect the each part to form the whole dataset.\n",
    "\n",
    "\n",
    "dataset_part1 = pd.DataFrame()\n",
    "dataset_part1['text'] = data_1\n",
    "#dataset_part1['label'] = 0\n",
    "dataset_part1['label'] = 'Fyodor Dostoyevsky'\n",
    "\n",
    "dataset_part2 = pd.DataFrame()\n",
    "dataset_part2['text'] = data_2\n",
    "#dataset_part2['label'] = 1\n",
    "dataset_part2['label'] = 'Jane Auste'\n",
    "\n",
    "dataset_part3 = pd.DataFrame()\n",
    "dataset_part3['text'] = data_3\n",
    "#dataset_part3['label'] = 2\n",
    "dataset_part3['label'] = 'Arthur Conan Doyle'\n",
    "\n",
    "text_data = [dataset_part1, dataset_part2,dataset_part3]\n",
    "dataset = pd.concat(text_data, axis = 0, ignore_index=True)\n",
    "dataset = shuffle(dataset) #We shuffle the dataset \n",
    "\n",
    "#print(dataset) # You can view the final DataFrame \n",
    "print(str(len(data_1)) + ' text data belongs to Fyodor Dostoyevsky')\n",
    "print(str(len(data_2)) + ' text data belongs to Jane Auste')\n",
    "print(str(len(data_3)) + ' text data belongs to Arthur Conan Doyle')"
   ]
  },
  {
   "cell_type": "markdown",
   "metadata": {},
   "source": [
    "## 1.2 Data split"
   ]
  },
  {
   "cell_type": "code",
   "execution_count": 4,
   "metadata": {},
   "outputs": [],
   "source": [
    "from sklearn import model_selection, preprocessing"
   ]
  },
  {
   "cell_type": "code",
   "execution_count": 5,
   "metadata": {},
   "outputs": [],
   "source": [
    "# Encoding the label\n",
    "encoder = preprocessing.LabelEncoder()\n",
    "dataset['encode_label'] = encoder.fit_transform(dataset['label'].values)\n",
    "\n",
    "#Valdation part: 20%\n",
    "#Because we shuffle the dataset at the last step, therefore, we set random_state is 1.\n",
    "train_x, val_x, train_y, val_y = model_selection.train_test_split(dataset['text'].values, dataset['encode_label'].values,\n",
    "                                                                  test_size=0.2, random_state=1)\n",
    "train_y = train_y.reshape(-1,1)\n",
    "val_y = val_y.reshape(-1,1)\n"
   ]
  },
  {
   "cell_type": "markdown",
   "metadata": {},
   "source": [
    "## 1.3 Feature Extraction: TF-IDF"
   ]
  },
  {
   "cell_type": "code",
   "execution_count": 6,
   "metadata": {},
   "outputs": [],
   "source": [
    "from sklearn.feature_extraction.text import TfidfVectorizer\n",
    "import nltk.corpus"
   ]
  },
  {
   "cell_type": "code",
   "execution_count": 7,
   "metadata": {},
   "outputs": [],
   "source": [
    "# Set the stop words\n",
    "# min_df = 50:\n",
    "#      If the frequency of the word lower than 50 times, it wll be ignored\n",
    "stop_w = nltk.corpus.stopwords.words('english') \n",
    "tfidf_vect = TfidfVectorizer(stop_words = stop_w, min_df=50)\n",
    "\n",
    "#Calculate TF-IDF\n",
    "tfidf_vect.fit(dataset['text'])\n",
    "xtrain = tfidf_vect.transform(train_x)\n",
    "xval = tfidf_vect.transform(val_x)\n",
    "xtrain = xtrain.toarray()\n",
    "xval = xval.toarray()"
   ]
  },
  {
   "cell_type": "markdown",
   "metadata": {},
   "source": [
    "---\n",
    "# Logistic Regression"
   ]
  },
  {
   "cell_type": "markdown",
   "metadata": {},
   "source": [
    "$$ J = -\\frac{1}{N}\\sum_{i=1}^{N}\\sum_{k=1}^{K}y_{ik}log(\\frac{exp f_{k}}{\\sum_{K}^{c=1}expf_{c}}) + \\lambda \\sum_{j=1}^{d}w_{kj}^2 $$ <br>"
   ]
  },
  {
   "cell_type": "markdown",
   "metadata": {},
   "source": [
    "**The gradient of J with respect to wk is:**<br>\n",
    "**Let $Z = \\omega _{k}^Tx$**. Then, applying chain rule to **J**: <br>\n",
    "$$\\frac{\\partial J}{\\partial \\omega } = \\frac{\\partial Z}{\\partial \\omega } \\frac{\\partial J}{\\partial Z } + 2\\lambda \\sum \\omega _{k}$$<br>\n",
    "$$\\frac{\\partial J}{\\partial \\omega } = x^T(\\frac{exp(\\omega_{i})}{\\sum_{k} exp(\\omega _{k}) }) + 2\\lambda \\sum_{k}\\omega _{k}$$"
   ]
  },
  {
   "cell_type": "code",
   "execution_count": 8,
   "metadata": {},
   "outputs": [],
   "source": [
    "# Define One-Hot encoding function and softmax function\n",
    "# Two function will be used in mini-batch SGD and SGD\n",
    "\n",
    "#Input:\n",
    "#      y: label\n",
    "def OneHot(y, num_class=3):\n",
    "    results = np.zeros((len(y), num_class))\n",
    "    for i, label in enumerate(y):\n",
    "        results[i, label.astype('int')] = 1\n",
    "    return results\n",
    "\n",
    "def softmax(x):\n",
    "    e_x = np.exp(x - np.max(x))\n",
    "    return e_x / e_x.sum(axis=0)  "
   ]
  },
  {
   "cell_type": "markdown",
   "metadata": {},
   "source": [
    "## 2.1 Mini-Batch SGD"
   ]
  },
  {
   "cell_type": "code",
   "execution_count": 9,
   "metadata": {},
   "outputs": [],
   "source": [
    "#Define the objective function and gradient function\n",
    "# Inputs:\n",
    "#     x: n-by-d matrix, n is batch size at here\n",
    "#     w: d-by-3 matrix\n",
    "#     y: n-by-3 matrix, n is batch size at here\n",
    "def mb_sgd_objective_gradient(w,x,y,lam):\n",
    "    \n",
    "    n,d = x.shape\n",
    "    y_mat = OneHot(y)\n",
    "    xw = np.dot(x,w)\n",
    "    exp_xw = softmax(xw)\n",
    "    \n",
    "    obj = -np.mean(np.sum(y_mat * np.log(exp_xw),axis=1)) + lam*np.sum(w*w)\n",
    "    \n",
    "    grad = -(1/n) * np.dot(x.T,(y_mat - exp_xw)) + lam * w\n",
    "    \n",
    "    return obj, grad"
   ]
  },
  {
   "cell_type": "code",
   "execution_count": 10,
   "metadata": {},
   "outputs": [],
   "source": [
    "#Implement the mini-batch SGD\n",
    "#Input:\n",
    "#      x: whole dataset\n",
    "#      y: whole labels\n",
    "#      lam: the regularization parameter\n",
    "#      batch_size: 4, 8, 16, 32, 64, 128, 256...\n",
    "#      stepsize: learning rate\n",
    "#      max_epochs: 100\n",
    "#      w: we initialize w metrix in function.\n",
    "def mb_gradient_descent(x,y,lam,batch_size,stepsize,max_epochs,w=None):\n",
    "\n",
    "    n,d = x.shape\n",
    "    num_batch = int(np.ceil(n/batch_size))\n",
    "    obj_vals = np.zeros(max_epochs)\n",
    "    \n",
    "    #initialize w metrix\n",
    "    # w: d-by-3\n",
    "    if w is None:\n",
    "        w = np.zeros((d,3))\n",
    "\n",
    "    for epoch in range(max_epochs):\n",
    "        rand_index = np.random.permutation(n)\n",
    "        x_rand = x[rand_index,:]\n",
    "        y_rand =y[rand_index]\n",
    "        obj_val = 0\n",
    "        \n",
    "        for i in range(1,num_batch+1):\n",
    "            mini_x = x_rand[(i-1)*batch_size:i*batch_size, :]\n",
    "            mini_y = y_rand[(i-1)*batch_size:i*batch_size]\n",
    "      \n",
    "            obj, g = mb_sgd_objective_gradient(w,mini_x,mini_y,lam)\n",
    "            obj_val += obj\n",
    "            w -= stepsize * g\n",
    "    \n",
    "        obj_val /= num_batch\n",
    "        obj_vals[epoch] = obj_val\n",
    "        print('Objective value at ' + str(epoch) + ' is ' + str(obj_val))\n",
    "    \n",
    "    return w, obj_vals"
   ]
  },
  {
   "cell_type": "code",
   "execution_count": 12,
   "metadata": {},
   "outputs": [
    {
     "name": "stdout",
     "output_type": "stream",
     "text": [
      "Objective value at 0 is 4.841205388760497\n",
      "Objective value at 1 is 4.839036827618762\n",
      "Objective value at 2 is 4.836956097281766\n",
      "Objective value at 3 is 4.834877449700911\n",
      "Objective value at 4 is 4.832813646356651\n",
      "Objective value at 5 is 4.830810268514768\n",
      "Objective value at 6 is 4.8288743407883965\n",
      "Objective value at 7 is 4.826965364572173\n",
      "Objective value at 8 is 4.825058529942545\n",
      "Objective value at 9 is 4.823269236978596\n",
      "Objective value at 10 is 4.821434146703816\n",
      "Objective value at 11 is 4.819587591165848\n",
      "Objective value at 12 is 4.817854764025717\n",
      "Objective value at 13 is 4.81606054663267\n",
      "Objective value at 14 is 4.814394410266627\n",
      "Objective value at 15 is 4.812734843403792\n",
      "Objective value at 16 is 4.81117635379941\n",
      "Objective value at 17 is 4.809533530783282\n",
      "Objective value at 18 is 4.807950144622446\n",
      "Objective value at 19 is 4.806606748812173\n",
      "Objective value at 20 is 4.804982128173232\n",
      "Objective value at 21 is 4.803620129675079\n",
      "Objective value at 22 is 4.8022680485548745\n",
      "Objective value at 23 is 4.80073179613212\n",
      "Objective value at 24 is 4.799659185707211\n",
      "Objective value at 25 is 4.7984201736434695\n",
      "Objective value at 26 is 4.797051981891225\n",
      "Objective value at 27 is 4.795963329357881\n",
      "Objective value at 28 is 4.794724881547384\n",
      "Objective value at 29 is 4.793790957883171\n",
      "Objective value at 30 is 4.792529135651732\n",
      "Objective value at 31 is 4.791397792777049\n",
      "Objective value at 32 is 4.790626264557536\n",
      "Objective value at 33 is 4.78981386335317\n",
      "Objective value at 34 is 4.78856926193647\n",
      "Objective value at 35 is 4.787469647309851\n",
      "Objective value at 36 is 4.786924455691139\n",
      "Objective value at 37 is 4.786134552271406\n",
      "Objective value at 38 is 4.785324066393044\n",
      "Objective value at 39 is 4.784790939270087\n",
      "Objective value at 40 is 4.783690544154268\n",
      "Objective value at 41 is 4.782998015468086\n",
      "Objective value at 42 is 4.782529324516466\n",
      "Objective value at 43 is 4.7819837351104155\n",
      "Objective value at 44 is 4.781294412320008\n",
      "Objective value at 45 is 4.780865822007493\n",
      "Objective value at 46 is 4.780491665198042\n",
      "Objective value at 47 is 4.779936104365399\n",
      "Objective value at 48 is 4.779654504445469\n",
      "Objective value at 49 is 4.779395325812288\n",
      "Objective value at 50 is 4.779185818335921\n",
      "Objective value at 51 is 4.7791839607286475\n",
      "Objective value at 52 is 4.77808975330112\n",
      "Objective value at 53 is 4.778425114489395\n",
      "Objective value at 54 is 4.778560098925478\n",
      "Objective value at 55 is 4.778032373185405\n",
      "Objective value at 56 is 4.778672867552995\n",
      "Objective value at 57 is 4.777781557862841\n",
      "Objective value at 58 is 4.778239247351852\n",
      "Objective value at 59 is 4.778892134715349\n",
      "Objective value at 60 is 4.778902171143288\n",
      "Objective value at 61 is 4.778210134182304\n",
      "Objective value at 62 is 4.7787615515040285\n",
      "Objective value at 63 is 4.778779656401614\n",
      "Objective value at 64 is 4.779301149717647\n",
      "Objective value at 65 is 4.779986097750205\n",
      "Objective value at 66 is 4.779508401974601\n",
      "Objective value at 67 is 4.780520496326484\n",
      "Objective value at 68 is 4.781261643883171\n",
      "Objective value at 69 is 4.7815232280180835\n",
      "Objective value at 70 is 4.782346259437226\n",
      "Objective value at 71 is 4.782154597486061\n",
      "Objective value at 72 is 4.7832097129687465\n",
      "Objective value at 73 is 4.783909555663362\n",
      "Objective value at 74 is 4.784617365547704\n",
      "Objective value at 75 is 4.784973443869255\n",
      "Objective value at 76 is 4.786600008192114\n",
      "Objective value at 77 is 4.787117459349619\n",
      "Objective value at 78 is 4.788622839228884\n",
      "Objective value at 79 is 4.789414296718784\n",
      "Objective value at 80 is 4.790484936658053\n",
      "Objective value at 81 is 4.790802128645897\n",
      "Objective value at 82 is 4.792120322267295\n",
      "Objective value at 83 is 4.793198517622823\n",
      "Objective value at 84 is 4.794422352429992\n",
      "Objective value at 85 is 4.796531729136205\n",
      "Objective value at 86 is 4.797996456559905\n",
      "Objective value at 87 is 4.7986721649768835\n",
      "Objective value at 88 is 4.800781359261792\n",
      "Objective value at 89 is 4.8015444053864575\n",
      "Objective value at 90 is 4.802913765810421\n",
      "Objective value at 91 is 4.803645056045738\n",
      "Objective value at 92 is 4.805600574139491\n",
      "Objective value at 93 is 4.807920583620878\n",
      "Objective value at 94 is 4.810140730758307\n",
      "Objective value at 95 is 4.8106906729418135\n",
      "Objective value at 96 is 4.81270025240945\n",
      "Objective value at 97 is 4.814360989695175\n",
      "Objective value at 98 is 4.816795945203775\n",
      "Objective value at 99 is 4.817650783768071\n"
     ]
    }
   ],
   "source": [
    "w, obj_vals = mb_gradient_descent(xtrain, train_y, 1E-6, 128, stepsize = 0.01, max_epochs = 100, w=None)"
   ]
  },
  {
   "cell_type": "code",
   "execution_count": 19,
   "metadata": {},
   "outputs": [
    {
     "data": {
      "text/plain": [
       "[<matplotlib.lines.Line2D at 0x7f9b98b6ab00>]"
      ]
     },
     "execution_count": 19,
     "metadata": {},
     "output_type": "execute_result"
    },
    {
     "data": {
      "image/png": "[encoded data removed]",
      "text/plain": [
       "<Figure size 432x288 with 1 Axes>"
      ]
     },
     "metadata": {
      "needs_background": "light"
     },
     "output_type": "display_data"
    }
   ],
   "source": [
    "fig_1 = plt.figure(figsize=(6, 4))\n",
    "x_range = range(len(obj_vals))\n",
    "plt.plot(x_range, obj_vals, '--b', label = 'Training loss')"
   ]
  },
  {
   "cell_type": "markdown",
   "metadata": {},
   "source": [
    "## 2.2 SGD"
   ]
  },
  {
   "cell_type": "code",
   "execution_count": 13,
   "metadata": {},
   "outputs": [],
   "source": [
    "def sgd_objective_gradient(w,x,y,lam):\n",
    "    \n",
    "    y_mat = OneHot(y)\n",
    "    xw = np.dot(x,w)\n",
    "    exp_xw = softmax(xw)\n",
    "    \n",
    "    obj = -np.mean(np.sum(y_mat * np.log(exp_xw),axis=1)) + lam*np.sum(w*w)\n",
    "    \n",
    "    grad = -np.dot(x.T,(y_mat - exp_xw)) + lam * w\n",
    "    \n",
    "    return obj, grad"
   ]
  },
  {
   "cell_type": "code",
   "execution_count": 16,
   "metadata": {},
   "outputs": [],
   "source": [
    "def sgd(x,y,lam,stepsize,max_epochs,w=None):\n",
    "    n,d = x.shape\n",
    "    obj_vals = np.zeros(max_epochs)\n",
    "    \n",
    "    if w is None:\n",
    "        w = np.zeros((d,3))\n",
    "\n",
    "    for epoch in range(max_epochs):\n",
    "        rand_index = np.random.permutation(n)\n",
    "        x_rand = x[rand_index,:]\n",
    "        y_rand = y[rand_index]\n",
    "        obj_val = 0\n",
    "        \n",
    "        for i in range(n):\n",
    "            xi = x_rand[i, :].reshape(1, -1)\n",
    "            yi = y_rand[i]\n",
    "      \n",
    "            obj, g = sgd_objective_gradient(w,xi,yi,lam)\n",
    "            obj_val += obj\n",
    "            w -= stepsize * g\n",
    "        stepsize *= 0.9\n",
    "        obj_val /= n\n",
    "        obj_vals[epoch] = obj_val\n",
    "        print('Objective value at ' + str(epoch) + ' is ' + str(obj_val))\n",
    "    \n",
    "    return w, obj_vals"
   ]
  },
  {
   "cell_type": "code",
   "execution_count": 18,
   "metadata": {},
   "outputs": [
    {
     "name": "stdout",
     "output_type": "stream",
     "text": [
      "Objective value at 0 is 1.997216024105853e-06\n",
      "Objective value at 1 is 1.2981924469317569e-05\n",
      "Objective value at 2 is 3.211567839215851e-05\n",
      "Objective value at 3 is 5.681897069036438e-05\n",
      "Objective value at 4 is 8.515164484057553e-05\n",
      "Objective value at 5 is 0.00011556025864877883\n",
      "Objective value at 6 is 0.0001469415765894066\n",
      "Objective value at 7 is 0.00017840463445470146\n",
      "Objective value at 8 is 0.00020936078354660833\n",
      "Objective value at 9 is 0.00023924458513038615\n",
      "Objective value at 10 is 0.0002678292141217612\n",
      "Objective value at 11 is 0.00029509011720939835\n",
      "Objective value at 12 is 0.00032061613905034055\n",
      "Objective value at 13 is 0.0003445884248839607\n",
      "Objective value at 14 is 0.00036682352842519835\n",
      "Objective value at 15 is 0.00038747708748389985\n",
      "Objective value at 16 is 0.0004066191603988936\n",
      "Objective value at 17 is 0.00042414875924706865\n",
      "Objective value at 18 is 0.00044022626054758134\n",
      "Objective value at 19 is 0.00045497949057957967\n",
      "Objective value at 20 is 0.0004685072936788654\n",
      "Objective value at 21 is 0.0004808269128892614\n",
      "Objective value at 22 is 0.0004920354285133049\n",
      "Objective value at 23 is 0.0005022035973489076\n",
      "Objective value at 24 is 0.0005115273187919505\n",
      "Objective value at 25 is 0.0005199324350934364\n",
      "Objective value at 26 is 0.0005275540546460355\n",
      "Objective value at 27 is 0.0005344873507081106\n",
      "Objective value at 28 is 0.0005407721539431483\n",
      "Objective value at 29 is 0.0005464365000120878\n",
      "Objective value at 30 is 0.0005515522818327969\n",
      "Objective value at 31 is 0.0005561982549720226\n",
      "Objective value at 32 is 0.0005603962633747166\n",
      "Objective value at 33 is 0.0005641679342904441\n",
      "Objective value at 34 is 0.0005675946732902345\n",
      "Objective value at 35 is 0.0005706754164811487\n",
      "Objective value at 36 is 0.000573458836471314\n",
      "Objective value at 37 is 0.0005759715182870091\n",
      "Objective value at 38 is 0.0005782455691972528\n",
      "Objective value at 39 is 0.0005802804329361922\n",
      "Objective value at 40 is 0.0005821235230744356\n",
      "Objective value at 41 is 0.000583782075620054\n",
      "Objective value at 42 is 0.0005852809640213485\n",
      "Objective value at 43 is 0.0005866246386972774\n",
      "Objective value at 44 is 0.0005878371192078179\n",
      "Objective value at 45 is 0.0005889329282396093\n",
      "Objective value at 46 is 0.0005899159889558941\n",
      "Objective value at 47 is 0.000590805613212091\n",
      "Objective value at 48 is 0.000591605088084702\n",
      "Objective value at 49 is 0.0005923228815618641\n",
      "Objective value at 50 is 0.0005929716256373632\n",
      "Objective value at 51 is 0.0005935564130191403\n",
      "Objective value at 52 is 0.0005940805595112361\n",
      "Objective value at 53 is 0.0005945540477005377\n",
      "Objective value at 54 is 0.0005949792378371876\n",
      "Objective value at 55 is 0.0005953641001683238\n",
      "Objective value at 56 is 0.0005957087546879942\n",
      "Objective value at 57 is 0.0005960198292430267\n",
      "Objective value at 58 is 0.0005962997660446733\n",
      "Objective value at 59 is 0.0005965511765676065\n",
      "Objective value at 60 is 0.0005967781739246883\n",
      "Objective value at 61 is 0.0005969827062086694\n",
      "Objective value at 62 is 0.000597166174981917\n",
      "Objective value at 63 is 0.0005973315967336832\n",
      "Objective value at 64 is 0.0005974801890179477\n",
      "Objective value at 65 is 0.0005976142571183491\n",
      "Objective value at 66 is 0.0005977350319579315\n",
      "Objective value at 67 is 0.0005978436351718665\n",
      "Objective value at 68 is 0.0005979411513830607\n",
      "Objective value at 69 is 0.0005980291713867857\n",
      "Objective value at 70 is 0.0005981082034907736\n",
      "Objective value at 71 is 0.0005981795475313065\n",
      "Objective value at 72 is 0.000598243567649483\n",
      "Objective value at 73 is 0.0005983013397168322\n",
      "Objective value at 74 is 0.0005983532591243124\n",
      "Objective value at 75 is 0.0005984000940433607\n",
      "Objective value at 76 is 0.0005984421121576701\n",
      "Objective value at 77 is 0.0005984799958992876\n",
      "Objective value at 78 is 0.0005985140362649928\n",
      "Objective value at 79 is 0.0005985447497780159\n",
      "Objective value at 80 is 0.0005985723863242711\n",
      "Objective value at 81 is 0.0005985971998665354\n",
      "Objective value at 82 is 0.0005986196662928936\n",
      "Objective value at 83 is 0.0005986396957263021\n",
      "Objective value at 84 is 0.0005986578464091545\n",
      "Objective value at 85 is 0.0005986741522398802\n",
      "Objective value at 86 is 0.0005986887989538907\n",
      "Objective value at 87 is 0.0005987020580900806\n",
      "Objective value at 88 is 0.0005987139264137656\n",
      "Objective value at 89 is 0.0005987246265111398\n",
      "Objective value at 90 is 0.0005987342355508141\n",
      "Objective value at 91 is 0.0005987428927509624\n",
      "Objective value at 92 is 0.0005987507205145931\n",
      "Objective value at 93 is 0.0005987577395902881\n",
      "Objective value at 94 is 0.0005987640524671844\n",
      "Objective value at 95 is 0.000598769730844059\n",
      "Objective value at 96 is 0.0005987748433003785\n",
      "Objective value at 97 is 0.0005987794471332648\n",
      "Objective value at 98 is 0.0005987835976411437\n",
      "Objective value at 99 is 0.0005987873282657902\n"
     ]
    },
    {
     "data": {
      "text/plain": [
       "(array([[-0.17302712, -0.17171733, -0.0013098 ],\n",
       "        [-0.12924281, -0.12924281,  0.        ],\n",
       "        [-0.27087661, -0.2699903 , -0.00088631],\n",
       "        ...,\n",
       "        [-0.0963973 , -0.0902703 , -0.01048466],\n",
       "        [-0.160566  , -0.11055724, -0.08384786],\n",
       "        [-0.17175498,  0.        , -0.17175498]]),\n",
       " array([1.99721602e-06, 1.29819245e-05, 3.21156784e-05, 5.68189707e-05,\n",
       "        8.51516448e-05, 1.15560259e-04, 1.46941577e-04, 1.78404634e-04,\n",
       "        2.09360784e-04, 2.39244585e-04, 2.67829214e-04, 2.95090117e-04,\n",
       "        3.20616139e-04, 3.44588425e-04, 3.66823528e-04, 3.87477087e-04,\n",
       "        4.06619160e-04, 4.24148759e-04, 4.40226261e-04, 4.54979491e-04,\n",
       "        4.68507294e-04, 4.80826913e-04, 4.92035429e-04, 5.02203597e-04,\n",
       "        5.11527319e-04, 5.19932435e-04, 5.27554055e-04, 5.34487351e-04,\n",
       "        5.40772154e-04, 5.46436500e-04, 5.51552282e-04, 5.56198255e-04,\n",
       "        5.60396263e-04, 5.64167934e-04, 5.67594673e-04, 5.70675416e-04,\n",
       "        5.73458836e-04, 5.75971518e-04, 5.78245569e-04, 5.80280433e-04,\n",
       "        5.82123523e-04, 5.83782076e-04, 5.85280964e-04, 5.86624639e-04,\n",
       "        5.87837119e-04, 5.88932928e-04, 5.89915989e-04, 5.90805613e-04,\n",
       "        5.91605088e-04, 5.92322882e-04, 5.92971626e-04, 5.93556413e-04,\n",
       "        5.94080560e-04, 5.94554048e-04, 5.94979238e-04, 5.95364100e-04,\n",
       "        5.95708755e-04, 5.96019829e-04, 5.96299766e-04, 5.96551177e-04,\n",
       "        5.96778174e-04, 5.96982706e-04, 5.97166175e-04, 5.97331597e-04,\n",
       "        5.97480189e-04, 5.97614257e-04, 5.97735032e-04, 5.97843635e-04,\n",
       "        5.97941151e-04, 5.98029171e-04, 5.98108203e-04, 5.98179548e-04,\n",
       "        5.98243568e-04, 5.98301340e-04, 5.98353259e-04, 5.98400094e-04,\n",
       "        5.98442112e-04, 5.98479996e-04, 5.98514036e-04, 5.98544750e-04,\n",
       "        5.98572386e-04, 5.98597200e-04, 5.98619666e-04, 5.98639696e-04,\n",
       "        5.98657846e-04, 5.98674152e-04, 5.98688799e-04, 5.98702058e-04,\n",
       "        5.98713926e-04, 5.98724627e-04, 5.98734236e-04, 5.98742893e-04,\n",
       "        5.98750721e-04, 5.98757740e-04, 5.98764052e-04, 5.98769731e-04,\n",
       "        5.98774843e-04, 5.98779447e-04, 5.98783598e-04, 5.98787328e-04]))"
      ]
     },
     "execution_count": 18,
     "metadata": {},
     "output_type": "execute_result"
    }
   ],
   "source": [
    "sgd(xtrain, train_y, 1E-6, stepsize = 0.001 ,max_epochs = 100, w=None)"
   ]
  },
  {
   "cell_type": "markdown",
   "metadata": {},
   "source": [
    "Observing the loss value of SGD, it keeps a slight increase which means that optimization process doesn't convergence. Therefore, we didn't plot the loss curve for SGD. The error reason will be analyzed at the last part. "
   ]
  },
  {
   "cell_type": "markdown",
   "metadata": {},
   "source": [
    "## 2.3 MLP"
   ]
  },
  {
   "cell_type": "markdown",
   "metadata": {},
   "source": [
    "**Pre-Requirement:**<br>\n",
    "Tensorflow: pip install tensorflow<br>\n",
    "Keras: pip install keras\n"
   ]
  },
  {
   "cell_type": "code",
   "execution_count": 8,
   "metadata": {},
   "outputs": [
    {
     "name": "stderr",
     "output_type": "stream",
     "text": [
      "Using TensorFlow backend.\n"
     ]
    }
   ],
   "source": [
    "from keras import models\n",
    "from keras import layers\n",
    "from keras.utils import to_categorical"
   ]
  },
  {
   "cell_type": "code",
   "execution_count": 34,
   "metadata": {},
   "outputs": [],
   "source": [
    "train_labels = to_categorical(train_y)\n",
    "test_labels = to_categorical(val_y)\n",
    "\n",
    "#Build the model\n",
    "#3-Layer MLP:\n",
    "#    1. The size of input layer is same with the dimension of single data sample\n",
    "#    2. Output: 256, 128, 3\n",
    "#    3. Use softmax as the activation function at last layer\n",
    "#    4. We choose rmsprop as optimizer\n",
    "\n",
    "network = models.Sequential()\n",
    "network.add(layers.Dense(256, activation = 'relu', input_shape = (xtrain.shape[1],)))\n",
    "network.add(layers.Dense(128, activation = 'relu'))\n",
    "network.add(layers.Dense(3, activation = 'softmax'))\n",
    "network.compile(optimizer = 'rmsprop', loss = 'categorical_crossentropy', metrics = ['accuracy'])\n",
    "\n",
    "#models.summary() #You can use models.summary() to check the details."
   ]
  },
  {
   "cell_type": "code",
   "execution_count": 35,
   "metadata": {},
   "outputs": [
    {
     "name": "stdout",
     "output_type": "stream",
     "text": [
      "Train on 12115 samples, validate on 3029 samples\n",
      "Epoch 1/30\n",
      "12115/12115 [==============================] - 1s 119us/step - loss: 0.4718 - accuracy: 0.8024 - val_loss: 0.3388 - val_accuracy: 0.8646\n",
      "Epoch 2/30\n",
      "12115/12115 [==============================] - 1s 113us/step - loss: 0.2829 - accuracy: 0.8771 - val_loss: 0.3136 - val_accuracy: 0.8603\n",
      "Epoch 3/30\n",
      "12115/12115 [==============================] - 1s 113us/step - loss: 0.2442 - accuracy: 0.8946 - val_loss: 0.3085 - val_accuracy: 0.8613\n",
      "Epoch 4/30\n",
      "12115/12115 [==============================] - 1s 115us/step - loss: 0.2207 - accuracy: 0.9058 - val_loss: 0.3278 - val_accuracy: 0.8683\n",
      "Epoch 5/30\n",
      "12115/12115 [==============================] - 1s 113us/step - loss: 0.2013 - accuracy: 0.9135 - val_loss: 0.3411 - val_accuracy: 0.8699\n",
      "Epoch 6/30\n",
      "12115/12115 [==============================] - 1s 114us/step - loss: 0.1835 - accuracy: 0.9207 - val_loss: 0.3497 - val_accuracy: 0.8699\n",
      "Epoch 7/30\n",
      "12115/12115 [==============================] - 1s 112us/step - loss: 0.1676 - accuracy: 0.9274 - val_loss: 0.3524 - val_accuracy: 0.8676\n",
      "Epoch 8/30\n",
      "12115/12115 [==============================] - 1s 116us/step - loss: 0.1535 - accuracy: 0.9341 - val_loss: 0.3924 - val_accuracy: 0.8726\n",
      "Epoch 9/30\n",
      "12115/12115 [==============================] - 2s 128us/step - loss: 0.1392 - accuracy: 0.9405 - val_loss: 0.4106 - val_accuracy: 0.8706\n",
      "Epoch 10/30\n",
      "12115/12115 [==============================] - 2s 140us/step - loss: 0.1263 - accuracy: 0.9468 - val_loss: 0.4446 - val_accuracy: 0.8696\n",
      "Epoch 11/30\n",
      "12115/12115 [==============================] - 1s 121us/step - loss: 0.1149 - accuracy: 0.9516 - val_loss: 0.4760 - val_accuracy: 0.8676\n",
      "Epoch 12/30\n",
      "12115/12115 [==============================] - 1s 121us/step - loss: 0.1043 - accuracy: 0.9557 - val_loss: 0.5462 - val_accuracy: 0.8683\n",
      "Epoch 13/30\n",
      "12115/12115 [==============================] - 1s 123us/step - loss: 0.0958 - accuracy: 0.9581 - val_loss: 0.5623 - val_accuracy: 0.8663\n",
      "Epoch 14/30\n",
      "12115/12115 [==============================] - 2s 129us/step - loss: 0.0897 - accuracy: 0.9610 - val_loss: 0.6305 - val_accuracy: 0.8660\n",
      "Epoch 15/30\n",
      "12115/12115 [==============================] - 1s 120us/step - loss: 0.0841 - accuracy: 0.9624 - val_loss: 0.6676 - val_accuracy: 0.8663\n",
      "Epoch 16/30\n",
      "12115/12115 [==============================] - 2s 125us/step - loss: 0.0793 - accuracy: 0.9644 - val_loss: 0.7074 - val_accuracy: 0.8660\n",
      "Epoch 17/30\n",
      "12115/12115 [==============================] - 1s 122us/step - loss: 0.0758 - accuracy: 0.9656 - val_loss: 0.7481 - val_accuracy: 0.8620\n",
      "Epoch 18/30\n",
      "12115/12115 [==============================] - 1s 123us/step - loss: 0.0727 - accuracy: 0.9662 - val_loss: 0.8025 - val_accuracy: 0.8594\n",
      "Epoch 19/30\n",
      "12115/12115 [==============================] - 2s 127us/step - loss: 0.0710 - accuracy: 0.9674 - val_loss: 0.8219 - val_accuracy: 0.8600\n",
      "Epoch 20/30\n",
      "12115/12115 [==============================] - 2s 145us/step - loss: 0.0695 - accuracy: 0.9686 - val_loss: 0.8215 - val_accuracy: 0.8564\n",
      "Epoch 21/30\n",
      "12115/12115 [==============================] - 1s 123us/step - loss: 0.0679 - accuracy: 0.9678 - val_loss: 0.9060 - val_accuracy: 0.8617\n",
      "Epoch 22/30\n",
      "12115/12115 [==============================] - 2s 129us/step - loss: 0.0670 - accuracy: 0.9692 - val_loss: 0.9547 - val_accuracy: 0.8594\n",
      "Epoch 23/30\n",
      "12115/12115 [==============================] - 2s 136us/step - loss: 0.0662 - accuracy: 0.9689 - val_loss: 0.9544 - val_accuracy: 0.8531\n",
      "Epoch 24/30\n",
      "12115/12115 [==============================] - 2s 131us/step - loss: 0.0651 - accuracy: 0.9698 - val_loss: 0.9817 - val_accuracy: 0.8541\n",
      "Epoch 25/30\n",
      "12115/12115 [==============================] - 2s 129us/step - loss: 0.0649 - accuracy: 0.9696 - val_loss: 0.9941 - val_accuracy: 0.8508\n",
      "Epoch 26/30\n",
      "12115/12115 [==============================] - 2s 128us/step - loss: 0.0647 - accuracy: 0.9693 - val_loss: 1.0601 - val_accuracy: 0.8574\n",
      "Epoch 27/30\n",
      "12115/12115 [==============================] - 2s 125us/step - loss: 0.0640 - accuracy: 0.9698 - val_loss: 1.0411 - val_accuracy: 0.8551\n",
      "Epoch 28/30\n",
      "12115/12115 [==============================] - 2s 128us/step - loss: 0.0635 - accuracy: 0.9698 - val_loss: 1.0429 - val_accuracy: 0.8501\n",
      "Epoch 29/30\n",
      "12115/12115 [==============================] - 2s 143us/step - loss: 0.0630 - accuracy: 0.9690 - val_loss: 1.0821 - val_accuracy: 0.8557\n",
      "Epoch 30/30\n",
      "12115/12115 [==============================] - 2s 124us/step - loss: 0.0630 - accuracy: 0.9702 - val_loss: 1.0726 - val_accuracy: 0.8564\n"
     ]
    }
   ],
   "source": [
    "#Training the model\n",
    "history = network.fit(xtrain, train_labels, epochs = 30, batch_size = 64, validation_split = 0.2)"
   ]
  },
  {
   "cell_type": "code",
   "execution_count": 36,
   "metadata": {},
   "outputs": [
    {
     "name": "stdout",
     "output_type": "stream",
     "text": [
      "3786/3786 [==============================] - 0s 26us/step\n",
      "test_acc 0.8515583872795105\n",
      "test_loss 1.0651354923553085\n"
     ]
    }
   ],
   "source": [
    "test_loss, test_acc = network.evaluate(xval, test_labels)\n",
    "print('test_acc', test_acc)\n",
    "print('test_loss', test_loss)"
   ]
  },
  {
   "cell_type": "code",
   "execution_count": 37,
   "metadata": {},
   "outputs": [
    {
     "data": {
      "image/png": "[encoded data removed]",
      "text/plain": [
       "<Figure size 432x288 with 1 Axes>"
      ]
     },
     "metadata": {
      "needs_background": "light"
     },
     "output_type": "display_data"
    }
   ],
   "source": [
    "history_dict = history.history\n",
    "loss_values = history_dict['loss']\n",
    "val_loss_values = history_dict['val_loss']\n",
    "\n",
    "epochs = range(1, len(loss_values) + 1)\n",
    "\n",
    "plt.plot(epochs, loss_values, '--b', label = 'Training loss')\n",
    "plt.plot(epochs, val_loss_values, '-r', label = 'Validation loss')\n",
    "plt.title('Training and validation loss')\n",
    "plt.xlabel('Epochs')\n",
    "plt.ylabel('Loss')\n",
    "plt.show()"
   ]
  },
  {
   "cell_type": "markdown",
   "metadata": {},
   "source": [
    "Comparing the training loss and validation loss, we can found that the training process happened overfitting strating from 4 or 5 epochs. In addition, accuracy value also indicates overfitting. Because the train accuracy at 30 epoch is 0.97, but val accuracy is 0.85. This result means that trained model cannot generalize on novel dataset.<br>\n",
    "Therefore, we suggest that epoch should be reduced at next training or we can choose the trained model from epoch 3 or epoch 4."
   ]
  },
  {
   "cell_type": "markdown",
   "metadata": {},
   "source": [
    "## 3. Cross Validation"
   ]
  },
  {
   "cell_type": "markdown",
   "metadata": {},
   "source": [
    "**1.** For the MLP, we apply cross validation and show the validation loss value step by step. The curving of val_loss at part 2.3. Moreover, we test trained model on the test part of dataset and the test_acc is 0.85. Compare the results of many experiments, we found that 256-128-3 hidden layer structure can achieve the better results. However, we will do more experiments to test different the number of neurons in the hidden layer. <br>\n"
   ]
  },
  {
   "cell_type": "markdown",
   "metadata": {},
   "source": [
    "**2.** For the mini-batch SGD and SGD, because we didn't get the reasonable loss value, we cannot choose the value of $\\lambda$ at this time. We will analysis the failing reason at next part. However, we provides cross validation method at here:"
   ]
  },
  {
   "cell_type": "code",
   "execution_count": 21,
   "metadata": {},
   "outputs": [],
   "source": [
    "# k-Folder Cross Validation\n",
    "\n",
    "k = 5 \n",
    "\n",
    "num_val_samples = len(xtrain) // k \n",
    "\n",
    "for i in range(k):\n",
    "    \n",
    "    val_data = xtrain[i * num_val_samples: (i + 1) * num_val_samples]\n",
    "    val_label = train_y[i * num_val_samples: (i + 1) * num_val_samples]"
   ]
  },
  {
   "cell_type": "markdown",
   "metadata": {},
   "source": [
    "We will use above code to choose $\\lambda$ in the future experiment."
   ]
  },
  {
   "cell_type": "markdown",
   "metadata": {},
   "source": [
    "## 4. Analysis"
   ]
  },
  {
   "cell_type": "markdown",
   "metadata": {},
   "source": [
    "**1.MLP:** MLP method got the best result. However, it happened overfitting at the early training stage. We can use a simple model or modify the different hyper-parameter to reduce the overfitting. <br>\n",
    "\n",
    "**2.Mini-Batch SGD and SGD:** Although the algorithm can be executed, the results are undesirability. We provide some possible reasons that cause the unreasonable result:<br>\n",
    "Firstly, the method of cleaning data maybe causes the problem.<br>\n",
    "Secondly, feature extraction step maybe causes the problem. For example, the setting of stop_words and word frequency lead to the more information loss.<br>\n",
    "Thirdly, the mathmatical part will lead to the error results, such as, the gradient equation includes the detailed error.\n"
   ]
  },
  {
   "cell_type": "markdown",
   "metadata": {},
   "source": [
    "We will continue to try to solve the problem and bugs in this homework."
   ]
  },
  {
   "cell_type": "markdown",
   "metadata": {},
   "source": [
    "___"
   ]
  }
 ],
 "metadata": {
  "kernelspec": {
   "display_name": "Python 3",
   "language": "python",
   "name": "python3"
  },
  "language_info": {
   "codemirror_mode": {
    "name": "ipython",
    "version": 3
   },
   "file_extension": ".py",
   "mimetype": "text/x-python",
   "name": "python",
   "nbconvert_exporter": "python",
   "pygments_lexer": "ipython3",
   "version": "3.7.3"
  }
 },
 "nbformat": 4,
 "nbformat_minor": 2
}
