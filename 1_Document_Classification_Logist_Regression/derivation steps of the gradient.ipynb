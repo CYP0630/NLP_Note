{
 "cells": [
  {
   "cell_type": "markdown",
   "metadata": {},
   "source": [
    "## derivation steps of the gradient"
   ]
  },
  {
   "cell_type": "markdown",
   "metadata": {},
   "source": [
    "$$ J = -\\frac{1}{N}\\sum_{i=1}^{N}\\sum_{k=1}^{K}y_{ik}log(\\frac{exp f_{k}}{\\sum_{K}^{c=1}expf_{c}}) + \\lambda \\sum_{j=1}^{d}w_{kj}^2 $$ <br>"
   ]
  },
  {
   "cell_type": "markdown",
   "metadata": {},
   "source": [
    "**Let $Z = \\omega _{k}^Tx$**."
   ]
  },
  {
   "cell_type": "markdown",
   "metadata": {},
   "source": [
    "$$S_{i} = softmax(Z_{i})=\\frac{exp(Z_{i})}{\\sum _{k}exp(Z_{k})}$$"
   ]
  },
  {
   "cell_type": "markdown",
   "metadata": {},
   "source": [
    "$$\\frac{\\partial S_{i} }{\\partial Z_{k}}= \\frac{\\frac{\\partial exp(z_k)}{\\partial z_{j}}\\sum -\\frac{\\partial \\sum}{\\partial z_{j}}exp(z_{i})}{\\sum ^2}$$"
   ]
  },
  {
   "cell_type": "markdown",
   "metadata": {},
   "source": [
    "If i = k:"
   ]
  },
  {
   "cell_type": "markdown",
   "metadata": {},
   "source": [
    "$$\\frac{\\partial S_{i} }{\\partial Z_{k}}=S_{i}(1-S_{k})$$"
   ]
  },
  {
   "cell_type": "markdown",
   "metadata": {},
   "source": [
    "If i $\\neq $ k:"
   ]
  },
  {
   "cell_type": "markdown",
   "metadata": {},
   "source": [
    "$$\\frac{\\partial S_{i} }{\\partial Z_{k}}=-S_{i} * S_{k}$$"
   ]
  },
  {
   "cell_type": "markdown",
   "metadata": {},
   "source": [
    "Applying chain rule to **J**:"
   ]
  },
  {
   "cell_type": "markdown",
   "metadata": {},
   "source": [
    "$$\\frac{\\partial J }{\\partial \\omega _{k}} = \\frac{\\partial Z_{i} }{\\partial \\omega _{k}} *\\frac{\\partial J }{\\partial Z_{i}} + \\lambda \\sum \\omega_{k}$$"
   ]
  },
  {
   "cell_type": "markdown",
   "metadata": {},
   "source": [
    "Because of $\\frac{\\partial J}{\\partial Z_{i}} = S_{i} - y_{i}$ :"
   ]
  },
  {
   "cell_type": "markdown",
   "metadata": {},
   "source": [
    "$$\\frac{\\partial J }{\\partial \\omega _{k}} =x^T(S_i - y_i) + \\lambda \\sum\\omega_k$$"
   ]
  }
 ],
 "metadata": {
  "kernelspec": {
   "display_name": "Python 3",
   "language": "python",
   "name": "python3"
  },
  "language_info": {
   "codemirror_mode": {
    "name": "ipython",
    "version": 3
   },
   "file_extension": ".py",
   "mimetype": "text/x-python",
   "name": "python",
   "nbconvert_exporter": "python",
   "pygments_lexer": "ipython3",
   "version": "3.7.3"
  }
 },
 "nbformat": 4,
 "nbformat_minor": 2
}
