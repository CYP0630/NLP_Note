{
 "cells": [
  {
   "cell_type": "markdown",
   "metadata": {},
   "source": [
    "## CS584_Homework 3_Part 2"
   ]
  },
  {
   "cell_type": "markdown",
   "metadata": {},
   "source": [
    "Pre-Requirement: <br>\n",
    "**tensorflow**<br>\n",
    "**keras**<br>\n",
    "**matplotlib**"
   ]
  },
  {
   "cell_type": "markdown",
   "metadata": {},
   "source": [
    "### Data Pre-processing"
   ]
  },
  {
   "cell_type": "code",
   "execution_count": 1,
   "metadata": {},
   "outputs": [],
   "source": [
    "import re\n",
    "import numpy as np"
   ]
  },
  {
   "cell_type": "code",
   "execution_count": 2,
   "metadata": {},
   "outputs": [
    {
     "name": "stdout",
     "output_type": "stream",
     "text": [
      "887521\n",
      "['aer', 'banknote', 'berlitz', 'calloway', 'centrust', 'cluett', 'fromstein', 'gitano', 'guterman', 'hydroquebec', 'ipo', 'kia', 'memotec', 'mlx', 'nahb', 'punts', 'rake', 'regatta', 'rubens', 'sim', 'snackfood', 'ssangyong', 'swapo', 'wachter', 'pierre', '<unk>', 'N', 'years', 'old', 'will', 'join', 'the', 'board', 'as', 'a', 'nonexecutive', 'director', 'nov', 'N', 'mr', '<unk>', 'is', 'chairman', 'of', '<unk>', 'nv', 'the', 'dutch', 'publishing', 'group', 'rudolph', '<unk>', 'N', 'years', 'old', 'and', 'former', 'chairman', 'of', 'consolidated', 'gold', 'fields', 'plc', 'was', 'named', 'a', 'nonexecutive', 'director', 'of', 'this', 'british', 'industrial', 'conglomerate', 'a', 'form', 'of', 'asbestos', 'once', 'used', 'to', 'make', 'kent', 'cigarette', 'filters', 'has', 'caused', 'a', 'high', 'percentage', 'of', 'cancer', 'deaths', 'among', 'a', 'group', 'of', 'workers', 'exposed', 'to', 'it']\n",
      "887521\n"
     ]
    }
   ],
   "source": [
    "file_1 = 'a3-data/train.txt'\n",
    "file_2 = 'a3-data/valid.txt'\n",
    "\n",
    "def clean_text(filepath):\n",
    "    \n",
    "    f = open('a3-data/train.txt',\"r\", encoding='utf-8')\n",
    "    lines = f.readlines()\n",
    "    output = []\n",
    "    for i in range(0,lines.__len__(),1):\n",
    "        for word in lines[i].split():\n",
    "            word = word.strip(' ')\n",
    "            word = re.sub(r\"[-()\\\"#/@;:{}'+=|.!?,]\", \"\", word)\n",
    "            output.append(word)\n",
    "    \n",
    "    return output\n",
    "\n",
    "train_word = clean_text(file_1)\n",
    "val_word = clean_text(file_2)\n",
    "\n",
    "print(len(train_word))\n",
    "print(train_word[0:100])\n",
    "print(len(val_word))"
   ]
  },
  {
   "cell_type": "markdown",
   "metadata": {},
   "source": [
    "### Build and Train the RNN Model "
   ]
  },
  {
   "cell_type": "code",
   "execution_count": 3,
   "metadata": {},
   "outputs": [
    {
     "name": "stderr",
     "output_type": "stream",
     "text": [
      "Using TensorFlow backend.\n"
     ]
    }
   ],
   "source": [
    "from keras.preprocessing.text import Tokenizer\n",
    "import numpy as np\n",
    "from keras.utils import to_categorical\n",
    "from keras.models import Sequential\n",
    "from keras.layers import Dense, LSTM, Embedding\n",
    "from pickle import dump,load\n",
    "from keras.callbacks import ModelCheckpoint\n",
    "from keras import optimizers\n",
    "from keras.models import load_model"
   ]
  },
  {
   "cell_type": "code",
   "execution_count": 4,
   "metadata": {},
   "outputs": [],
   "source": [
    "#convert the whole text into text sequences of four words \n",
    "train_len = 3+1\n",
    "text_sequences = []\n",
    "for i in range(train_len,len(train_word)):\n",
    "    seq = train_word[i-train_len:i]\n",
    "    text_sequences.append(seq)\n",
    "\n",
    "sequences = {}\n",
    "count = 1\n",
    "for i in range(len(train_word)):\n",
    "    if train_word[i] not in sequences:\n",
    "        sequences[train_word[i]] = count\n",
    "        count += 1"
   ]
  },
  {
   "cell_type": "code",
   "execution_count": 5,
   "metadata": {},
   "outputs": [],
   "source": [
    "#we convert the data into a numpy array\n",
    "\n",
    "tokenizer = Tokenizer()\n",
    "tokenizer.fit_on_texts(text_sequences)\n",
    "sequences = tokenizer.texts_to_sequences(text_sequences) \n",
    "\n",
    "unique_words = tokenizer.index_word\n",
    "unique_wordsApp = tokenizer.word_counts\n",
    "vocabulary_size = len(tokenizer.word_counts)\n",
    "\n",
    "n_sequences = np.empty([len(sequences),train_len], dtype='int32')\n",
    "for i in range(len(sequences)):\n",
    "    n_sequences[i] = sequences[i]"
   ]
  },
  {
   "cell_type": "code",
   "execution_count": 7,
   "metadata": {},
   "outputs": [
    {
     "data": {
      "text/plain": [
       "(887517, 3)"
      ]
     },
     "execution_count": 7,
     "metadata": {},
     "output_type": "execute_result"
    }
   ],
   "source": [
    "# Splits the sequences into inputs and output labels\n",
    "# One-hot embedding\n",
    "train_inputs = n_sequences[:,:-1]\n",
    "train_targets = n_sequences[:,-1]\n",
    "\n",
    "train_targets = to_categorical(train_targets, num_classes=vocabulary_size+1)\n",
    "seq_len = train_inputs.shape[1]\n",
    "train_inputs.shape\n"
   ]
  },
  {
   "cell_type": "code",
   "execution_count": 8,
   "metadata": {},
   "outputs": [],
   "source": [
    "# Define Model\n",
    "def create_model(vocabulary_size, seq_len):\n",
    "    model = Sequential()\n",
    "    model.add(Embedding(vocabulary_size, seq_len, embeddings_initializer='uniform', input_length=seq_len))\n",
    "    model.add(LSTM(50,return_sequences=True))\n",
    "    model.add(LSTM(50))\n",
    "    model.add(Dense(50,activation='relu'))\n",
    "    model.add(Dense(vocabulary_size,activation='softmax'))\n",
    "    opt_adam = optimizers.adam(lr=1e-3)\n",
    "    model.compile(loss='categorical_crossentropy',optimizer=opt_adam,metrics=['accuracy'])\n",
    "    model.summary()\n",
    "    return model"
   ]
  },
  {
   "cell_type": "code",
   "execution_count": 9,
   "metadata": {},
   "outputs": [
    {
     "name": "stdout",
     "output_type": "stream",
     "text": [
      "Model: \"sequential_1\"\n",
      "_________________________________________________________________\n",
      "Layer (type)                 Output Shape              Param #   \n",
      "=================================================================\n",
      "embedding_1 (Embedding)      (None, 3, 3)              29826     \n",
      "_________________________________________________________________\n",
      "lstm_1 (LSTM)                (None, 3, 50)             10800     \n",
      "_________________________________________________________________\n",
      "lstm_2 (LSTM)                (None, 50)                20200     \n",
      "_________________________________________________________________\n",
      "dense_1 (Dense)              (None, 50)                2550      \n",
      "_________________________________________________________________\n",
      "dense_2 (Dense)              (None, 9942)              507042    \n",
      "=================================================================\n",
      "Total params: 570,418\n",
      "Trainable params: 570,418\n",
      "Non-trainable params: 0\n",
      "_________________________________________________________________\n"
     ]
    }
   ],
   "source": [
    "model = create_model(vocabulary_size+1,seq_len)\n",
    "path = './checkpoints/word_pred_Model4.h5'\n",
    "checkpoint = ModelCheckpoint(path, monitor='loss', verbose=1, save_best_only=True, mode='min')"
   ]
  },
  {
   "cell_type": "code",
   "execution_count": 10,
   "metadata": {},
   "outputs": [
    {
     "name": "stderr",
     "output_type": "stream",
     "text": [
      "/Users/cyp/anaconda3/lib/python3.7/site-packages/tensorflow_core/python/framework/indexed_slices.py:433: UserWarning: Converting sparse IndexedSlices to a dense Tensor of unknown shape. This may consume a large amount of memory.\n",
      "  \"Converting sparse IndexedSlices to a dense Tensor of unknown shape. \"\n"
     ]
    },
    {
     "name": "stdout",
     "output_type": "stream",
     "text": [
      "Epoch 1/30\n",
      "887517/887517 [==============================] - 173s 195us/step - loss: 6.3414 - accuracy: 0.1075\n",
      "\n",
      "Epoch 00001: loss improved from inf to 6.34141, saving model to ./checkpoints/word_pred_Model4.h5\n",
      "Epoch 2/30\n",
      "887517/887517 [==============================] - 180s 202us/step - loss: 5.8188 - accuracy: 0.1484\n",
      "\n",
      "Epoch 00002: loss improved from 6.34141 to 5.81877, saving model to ./checkpoints/word_pred_Model4.h5\n",
      "Epoch 3/30\n",
      "887517/887517 [==============================] - 199s 224us/step - loss: 5.5998 - accuracy: 0.1620\n",
      "\n",
      "Epoch 00003: loss improved from 5.81877 to 5.59980, saving model to ./checkpoints/word_pred_Model4.h5\n",
      "Epoch 4/30\n",
      "887517/887517 [==============================] - 190s 215us/step - loss: 5.4905 - accuracy: 0.1690\n",
      "\n",
      "Epoch 00004: loss improved from 5.59980 to 5.49050, saving model to ./checkpoints/word_pred_Model4.h5\n",
      "Epoch 5/30\n",
      "887517/887517 [==============================] - 198s 223us/step - loss: 5.4234 - accuracy: 0.1734\n",
      "\n",
      "Epoch 00005: loss improved from 5.49050 to 5.42341, saving model to ./checkpoints/word_pred_Model4.h5\n",
      "Epoch 6/30\n",
      "887517/887517 [==============================] - 213s 240us/step - loss: 5.3764 - accuracy: 0.1761\n",
      "\n",
      "Epoch 00006: loss improved from 5.42341 to 5.37636, saving model to ./checkpoints/word_pred_Model4.h5\n",
      "Epoch 7/30\n",
      "887517/887517 [==============================] - 246s 277us/step - loss: 5.3404 - accuracy: 0.1780\n",
      "\n",
      "Epoch 00007: loss improved from 5.37636 to 5.34040, saving model to ./checkpoints/word_pred_Model4.h5\n",
      "Epoch 8/30\n",
      "887517/887517 [==============================] - 220s 248us/step - loss: 5.3122 - accuracy: 0.1796\n",
      "\n",
      "Epoch 00008: loss improved from 5.34040 to 5.31224, saving model to ./checkpoints/word_pred_Model4.h5\n",
      "Epoch 9/30\n",
      "887517/887517 [==============================] - 240s 270us/step - loss: 5.2887 - accuracy: 0.1810\n",
      "\n",
      "Epoch 00009: loss improved from 5.31224 to 5.28867, saving model to ./checkpoints/word_pred_Model4.h5\n",
      "Epoch 10/30\n",
      "887517/887517 [==============================] - 224s 252us/step - loss: 5.2691 - accuracy: 0.1822\n",
      "\n",
      "Epoch 00010: loss improved from 5.28867 to 5.26911, saving model to ./checkpoints/word_pred_Model4.h5\n",
      "Epoch 11/30\n",
      "887517/887517 [==============================] - 224s 253us/step - loss: 5.2522 - accuracy: 0.1831\n",
      "\n",
      "Epoch 00011: loss improved from 5.26911 to 5.25218, saving model to ./checkpoints/word_pred_Model4.h5\n",
      "Epoch 12/30\n",
      "887517/887517 [==============================] - 233s 263us/step - loss: 5.2371 - accuracy: 0.1840\n",
      "\n",
      "Epoch 00012: loss improved from 5.25218 to 5.23710, saving model to ./checkpoints/word_pred_Model4.h5\n",
      "Epoch 13/30\n",
      "887517/887517 [==============================] - 233s 263us/step - loss: 5.2243 - accuracy: 0.1852\n",
      "\n",
      "Epoch 00013: loss improved from 5.23710 to 5.22427, saving model to ./checkpoints/word_pred_Model4.h5\n",
      "Epoch 14/30\n",
      "887517/887517 [==============================] - 235s 265us/step - loss: 5.2123 - accuracy: 0.1858\n",
      "\n",
      "Epoch 00014: loss improved from 5.22427 to 5.21234, saving model to ./checkpoints/word_pred_Model4.h5\n",
      "Epoch 15/30\n",
      "887517/887517 [==============================] - 232s 262us/step - loss: 5.2024 - accuracy: 0.1867\n",
      "\n",
      "Epoch 00015: loss improved from 5.21234 to 5.20235, saving model to ./checkpoints/word_pred_Model4.h5\n",
      "Epoch 16/30\n",
      "887517/887517 [==============================] - 230s 259us/step - loss: 5.1927 - accuracy: 0.1874\n",
      "\n",
      "Epoch 00016: loss improved from 5.20235 to 5.19265, saving model to ./checkpoints/word_pred_Model4.h5\n",
      "Epoch 17/30\n",
      "887517/887517 [==============================] - 218s 245us/step - loss: 5.1842 - accuracy: 0.1881\n",
      "\n",
      "Epoch 00017: loss improved from 5.19265 to 5.18416, saving model to ./checkpoints/word_pred_Model4.h5\n",
      "Epoch 18/30\n",
      "887517/887517 [==============================] - 224s 252us/step - loss: 5.1762 - accuracy: 0.1885\n",
      "\n",
      "Epoch 00018: loss improved from 5.18416 to 5.17621, saving model to ./checkpoints/word_pred_Model4.h5\n",
      "Epoch 19/30\n",
      "887517/887517 [==============================] - 234s 264us/step - loss: 5.1689 - accuracy: 0.1890\n",
      "\n",
      "Epoch 00019: loss improved from 5.17621 to 5.16893, saving model to ./checkpoints/word_pred_Model4.h5\n",
      "Epoch 20/30\n",
      "887517/887517 [==============================] - 228s 257us/step - loss: 5.1622 - accuracy: 0.1897\n",
      "\n",
      "Epoch 00020: loss improved from 5.16893 to 5.16222, saving model to ./checkpoints/word_pred_Model4.h5\n",
      "Epoch 21/30\n",
      "887517/887517 [==============================] - 231s 260us/step - loss: 5.1563 - accuracy: 0.1902\n",
      "\n",
      "Epoch 00021: loss improved from 5.16222 to 5.15628, saving model to ./checkpoints/word_pred_Model4.h5\n",
      "Epoch 22/30\n",
      "887517/887517 [==============================] - 232s 262us/step - loss: 5.1507 - accuracy: 0.1905\n",
      "\n",
      "Epoch 00022: loss improved from 5.15628 to 5.15073, saving model to ./checkpoints/word_pred_Model4.h5\n",
      "Epoch 23/30\n",
      "887517/887517 [==============================] - 240s 270us/step - loss: 5.1456 - accuracy: 0.1908\n",
      "\n",
      "Epoch 00023: loss improved from 5.15073 to 5.14555, saving model to ./checkpoints/word_pred_Model4.h5\n",
      "Epoch 24/30\n",
      "887517/887517 [==============================] - 235s 264us/step - loss: 5.1403 - accuracy: 0.1914\n",
      "\n",
      "Epoch 00024: loss improved from 5.14555 to 5.14035, saving model to ./checkpoints/word_pred_Model4.h5\n",
      "Epoch 25/30\n",
      "887517/887517 [==============================] - 219s 247us/step - loss: 5.1354 - accuracy: 0.1918\n",
      "\n",
      "Epoch 00025: loss improved from 5.14035 to 5.13541, saving model to ./checkpoints/word_pred_Model4.h5\n",
      "Epoch 26/30\n",
      "887517/887517 [==============================] - 234s 264us/step - loss: 5.1311 - accuracy: 0.1921\n",
      "\n",
      "Epoch 00026: loss improved from 5.13541 to 5.13110, saving model to ./checkpoints/word_pred_Model4.h5\n",
      "Epoch 27/30\n",
      "887517/887517 [==============================] - 227s 256us/step - loss: 5.1269 - accuracy: 0.1922\n",
      "\n",
      "Epoch 00027: loss improved from 5.13110 to 5.12692, saving model to ./checkpoints/word_pred_Model4.h5\n",
      "Epoch 28/30\n",
      "887517/887517 [==============================] - 227s 256us/step - loss: 5.1230 - accuracy: 0.1925\n",
      "\n",
      "Epoch 00028: loss improved from 5.12692 to 5.12296, saving model to ./checkpoints/word_pred_Model4.h5\n",
      "Epoch 29/30\n",
      "887517/887517 [==============================] - 246s 277us/step - loss: 5.1195 - accuracy: 0.1927\n",
      "\n",
      "Epoch 00029: loss improved from 5.12296 to 5.11948, saving model to ./checkpoints/word_pred_Model4.h5\n",
      "Epoch 30/30\n",
      "887517/887517 [==============================] - 237s 267us/step - loss: 5.1154 - accuracy: 0.1932\n",
      "\n",
      "Epoch 00030: loss improved from 5.11948 to 5.11539, saving model to ./checkpoints/word_pred_Model4.h5\n"
     ]
    }
   ],
   "source": [
    "# Training Model\n",
    "history = model.fit(train_inputs,train_targets,batch_size=64,epochs=30,verbose=1,callbacks=[checkpoint])\n",
    "model.save('word_pred_Model4.h5')\n",
    "dump(tokenizer,open('tokenizer_Model4','wb'))    "
   ]
  },
  {
   "cell_type": "code",
   "execution_count": 13,
   "metadata": {},
   "outputs": [
    {
     "name": "stdout",
     "output_type": "stream",
     "text": [
      "[567.59811404 336.55675677 270.37322764 242.37735823 226.65103514\n",
      " 216.2341526  208.59687469 202.80349522 198.07991155 194.24295803\n",
      " 190.98123503 188.12463478 185.72524491 183.52260941 181.69899056\n",
      " 179.94543209 178.4241834  177.00980428 175.72619507 174.55102628\n",
      " 173.51845796 172.55804986 171.66648331 170.77544128 169.93451296\n",
      " 169.20343687 168.49655727 167.83115889 167.24920517 166.56503515]\n"
     ]
    },
    {
     "data": {
      "text/plain": [
       "Text(0.5, 1.0, 'Training Loss')"
      ]
     },
     "execution_count": 13,
     "metadata": {},
     "output_type": "execute_result"
    },
    {
     "data": {
      "image/png": "[encoded data removed]",
      "text/plain": [
       "<Figure size 432x288 with 1 Axes>"
      ]
     },
     "metadata": {
      "needs_background": "light"
     },
     "output_type": "display_data"
    }
   ],
   "source": [
    "# Plot training loss and acc.\n",
    "# Calculate the preplexity value\n",
    "\n",
    "import matplotlib.pyplot as plt\n",
    "\n",
    "loss = history.history['loss']\n",
    "loss = np.asarray(loss)\n",
    "preplexity = np.exp(loss)\n",
    "print(preplexity)\n",
    "\n",
    "\n",
    "plt.plot(history.history['loss'])\n",
    "plt.title('Training Loss')"
   ]
  },
  {
   "cell_type": "markdown",
   "metadata": {},
   "source": [
    "**Above results shows the preplexity value for each epoch.**"
   ]
  },
  {
   "cell_type": "markdown",
   "metadata": {},
   "source": [
    "### Prediction"
   ]
  },
  {
   "cell_type": "code",
   "execution_count": 14,
   "metadata": {},
   "outputs": [],
   "source": [
    "from keras.preprocessing.sequence import pad_sequences"
   ]
  },
  {
   "cell_type": "code",
   "execution_count": 15,
   "metadata": {},
   "outputs": [
    {
     "name": "stderr",
     "output_type": "stream",
     "text": [
      "/Users/cyp/anaconda3/lib/python3.7/site-packages/tensorflow_core/python/framework/indexed_slices.py:433: UserWarning: Converting sparse IndexedSlices to a dense Tensor of unknown shape. This may consume a large amount of memory.\n",
      "  \"Converting sparse IndexedSlices to a dense Tensor of unknown shape. \"\n"
     ]
    }
   ],
   "source": [
    "pred_model = load_model('word_pred_Model4.h5')"
   ]
  },
  {
   "cell_type": "code",
   "execution_count": 16,
   "metadata": {},
   "outputs": [],
   "source": [
    "tokenizer = load(open('tokenizer_Model4','rb'))\n",
    "seq_len = 3 "
   ]
  },
  {
   "cell_type": "code",
   "execution_count": 17,
   "metadata": {},
   "outputs": [],
   "source": [
    "def gen_text(model, tokenizer, seq_len, seed_text, num_gen_words):\n",
    "    output_text = []\n",
    "    input_text = seed_text\n",
    "    for i in range(num_gen_words):\n",
    "        encoded_text = tokenizer.texts_to_sequences([input_text])[0]\n",
    "        pad_encoded = pad_sequences([encoded_text], maxlen=seq_len,truncating='pre')\n",
    "        pred_word_ind = model.predict_classes(pad_encoded,verbose=0)[0]\n",
    "        \n",
    "        pred_word = tokenizer.index_word[pred_word_ind]\n",
    "        input_text += ' '+pred_word\n",
    "        output_text.append(pred_word)\n",
    "    return ' '.join(output_text)"
   ]
  },
  {
   "cell_type": "code",
   "execution_count": 19,
   "metadata": {},
   "outputs": [
    {
     "name": "stdout",
     "output_type": "stream",
     "text": [
      "1 The next word of fall is : to\n",
      "2 The next word of failed is : to\n",
      "3 The next word of floor is : the\n",
      "4 The next word of plate is : in\n",
      "5 The next word of futures is : and\n",
      "6 The next word of capital is : and\n",
      "7 The next word of the is : <unk>\n",
      "8 The next word of it is : s\n",
      "9 The next word of banks is : and\n",
      "10 The next word of is is : a\n",
      "11 The next word of their is : <unk>\n",
      "12 The next word of in is : the\n",
      "13 The next word of for is : the\n",
      "14 The next word of were is : <unk>\n",
      "15 The next word of only is : the\n",
      "16 The next word of the is : <unk>\n",
      "17 The next word of extremely is : <unk>\n",
      "18 The next word of placed is : by\n",
      "19 The next word of big is : <unk>\n",
      "20 The next word of trading is : in\n",
      "21 The next word of the is : <unk>\n",
      "22 The next word of after is : the\n",
      "23 The next word of news is : of\n",
      "24 The next word of rid is : of\n",
      "25 The next word of declared is : the\n",
      "26 The next word of stocks is : and\n",
      "27 The next word of was is : <unk>\n",
      "28 The next word of which is : <unk>\n",
      "29 The next word of street is : <unk>\n",
      "30 The next word of the is : <unk>\n"
     ]
    }
   ],
   "source": [
    "test_file = open('a3-data/input.txt',\"r\", encoding='utf-8')\n",
    "lines = test_file.readlines()\n",
    "test_line = lines[:30]\n",
    "i = 1\n",
    "for line in test_line:\n",
    "    line = re.sub(r\"[-()\\\"#/@;:{}'+=_|.!?,]\", \"\", line)\n",
    "    word = line.split()\n",
    "    test_word = word[-1]\n",
    "    out = gen_text(pred_model, tokenizer, seq_len=seq_len, seed_text=test_word, num_gen_words=1)\n",
    "    print(i, \"The next word of\",test_word, \"is :\", out)\n",
    "    i += 1"
   ]
  },
  {
   "cell_type": "markdown",
   "metadata": {},
   "source": [
    "We trained model many times. We found that if we reduce the training data to 10000-50000, the prediction results will be improved. The number of training data can be changed by modifying belows two line:<br>\n",
    "**train_inputs = n_sequences[:,:-1][:50000]**<br>\n",
    "**train_targets = n_sequences[:,-1][:50000]**<br>\n",
    "We will continue to improve the model's performance:<br>\n",
    "1. Adopt different methods to clean original text data.\n",
    "2. Modify RNN structure.\n",
    "3. Adjust Hyper-Parameters."
   ]
  },
  {
   "cell_type": "markdown",
   "metadata": {},
   "source": [
    "### Prove that perplexity is exp(total loss /number of predictions)"
   ]
  },
  {
   "cell_type": "markdown",
   "metadata": {},
   "source": [
    "According to the original mathematical defintion of **Perplexity**:"
   ]
  },
  {
   "cell_type": "markdown",
   "metadata": {},
   "source": [
    "$$ 2^{H(p)} = 2^{-\\sum_{x} p(x)log_{2}p(x)} $$"
   ]
  },
  {
   "cell_type": "markdown",
   "metadata": {},
   "source": [
    "$$ H(p) =  -\\sum_{x} p(x)log_{2}p(x) $$"
   ]
  },
  {
   "cell_type": "markdown",
   "metadata": {},
   "source": [
    "The above equation is entropy. More importantly, we use entropy to evaluate the similarity and calculate loss value. Therefore, we can re-write Preplexity function as:"
   ]
  },
  {
   "cell_type": "markdown",
   "metadata": {},
   "source": [
    "$$perplexity = 2^{entropy}$$"
   ]
  },
  {
   "cell_type": "markdown",
   "metadata": {},
   "source": [
    "$$perplexity = 2^{-\\sum_{i=1}^{N}p(x_{i})log_2^{q(xi)}}$$"
   ]
  },
  {
   "cell_type": "markdown",
   "metadata": {},
   "source": [
    "$$perplexity = e^{-\\sum_{i=1}^{N}p(x_{i})ln^{q(xi)}}$$"
   ]
  },
  {
   "cell_type": "markdown",
   "metadata": {},
   "source": [
    "$$preplexity = e^{-\\sum_{i=1}^{N}\\frac{1}{N}ln^{q(xi)}}$$"
   ]
  },
  {
   "cell_type": "markdown",
   "metadata": {},
   "source": [
    "$$perplexity = \\prod_{i=1}^{N}q(x_{i})^{-1/N} = = \\sqrt[N]{\\frac{1}{q(x_{1})q(x_{2})...q(x_{n})}}$$"
   ]
  },
  {
   "cell_type": "markdown",
   "metadata": {},
   "source": [
    "Therefore, perplexity is exp(total loss / number of predictions)"
   ]
  }
 ],
 "metadata": {
  "kernelspec": {
   "display_name": "Python 3",
   "language": "python",
   "name": "python3"
  },
  "language_info": {
   "codemirror_mode": {
    "name": "ipython",
    "version": 3
   },
   "file_extension": ".py",
   "mimetype": "text/x-python",
   "name": "python",
   "nbconvert_exporter": "python",
   "pygments_lexer": "ipython3",
   "version": "3.7.3"
  }
 },
 "nbformat": 4,
 "nbformat_minor": 2
}
