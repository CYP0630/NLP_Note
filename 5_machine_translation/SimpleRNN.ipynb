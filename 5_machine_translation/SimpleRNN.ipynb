{
 "cells": [
  {
   "cell_type": "markdown",
   "metadata": {},
   "source": [
    "# CS584 Homework 5: Machine Translation"
   ]
  },
  {
   "cell_type": "markdown",
   "metadata": {},
   "source": [
    "# Seq2Seq: SimpleRNN"
   ]
  },
  {
   "cell_type": "markdown",
   "metadata": {},
   "source": [
    "* English to French"
   ]
  },
  {
   "cell_type": "markdown",
   "metadata": {},
   "source": [
    "## 1. Data preparation¶\n"
   ]
  },
  {
   "cell_type": "code",
   "execution_count": 1,
   "metadata": {},
   "outputs": [],
   "source": [
    "import re\n",
    "import string\n",
    "from unicodedata import normalize\n",
    "import numpy as np"
   ]
  },
  {
   "cell_type": "code",
   "execution_count": 2,
   "metadata": {},
   "outputs": [],
   "source": [
    "\"\"\"\n",
    "load_doc: loading file \n",
    "to_line: cutting the the whole file to line by line\n",
    "clean_data: remove the symble, url, or other irrevalent information \n",
    "\n",
    "\"\"\"\n",
    "\n",
    "def load_doc(filename):\n",
    "    # open the file as read only\n",
    "    file = open(filename, mode='rt', encoding='utf-8')\n",
    "    # read all text\n",
    "    text = file.read()\n",
    "    # close the file\n",
    "    file.close()\n",
    "    return text\n",
    "\n",
    "def to_line(doc):\n",
    "    lines = doc.strip().split('\\n')\n",
    "    pairs = [line.split('\\t') for line in  lines]\n",
    "    return lines\n",
    "\n",
    "def clean_data(lines):\n",
    "    cleaned = list()\n",
    "    # prepare regex for char filtering\n",
    "    re_print = re.compile('[^%s]' % re.escape(string.printable))\n",
    "    # prepare translation table for removing punctuation\n",
    "    table = str.maketrans('', '', string.punctuation)\n",
    "    for line in lines:\n",
    "        # normalize unicode characters\n",
    "        line = normalize('NFD', line).encode('utf-8', 'ignore')\n",
    "        #print(line)\n",
    "        line = line.decode('UTF-8')\n",
    "            \n",
    "        # tokenize on white space\n",
    "        line = line.split()\n",
    "            \n",
    "        # convert to lowercase\n",
    "        line = [word.lower() for word in line]\n",
    "            \n",
    "        # remove punctuation from each token\n",
    "        line = [word.translate(table) for word in line]\n",
    "            \n",
    "         # remove non-printable chars form each token\n",
    "        line = [re_print.sub('', w) for w in line]\n",
    "        #print(line)\n",
    "        # remove tokens with numbers in them\n",
    "        line = [word for word in line if word.isalpha()]\n",
    "            \n",
    "        # store as string\n",
    "        cleaned.append(' '.join(line))\n",
    "    return cleaned"
   ]
  },
  {
   "cell_type": "code",
   "execution_count": 3,
   "metadata": {},
   "outputs": [
    {
     "name": "stdout",
     "output_type": "stream",
     "text": [
      "English sentencens match with French sentences \n",
      "\n",
      "English sentence: 2007723 \n",
      "\n",
      "French sentence: 2007723 \n",
      "\n"
     ]
    }
   ],
   "source": [
    "# Using the first 30000 sentences to contruct dataset\n",
    "data_len = 30000\n",
    "\n",
    "en = load_doc('europarl-v7.fr-en.en')\n",
    "en_lines = to_line(en)\n",
    "fr = load_doc('europarl-v7.fr-en.fr')\n",
    "fr_lines = to_line(fr)\n",
    "\n",
    "if len(en_lines) == len(fr_lines):\n",
    "    print('English sentencens match with French sentences \\n')\n",
    "    print('English sentence:', len(en_lines), '\\n')\n",
    "    print('French sentence:', len(fr_lines), '\\n')\n",
    "else :\n",
    "    print('English sentencens does not match with French sentences')"
   ]
  },
  {
   "cell_type": "code",
   "execution_count": 4,
   "metadata": {},
   "outputs": [],
   "source": [
    "#cleaning english part and french part \n",
    "clean_en = clean_data(en_lines)[0:data_len]\n",
    "clean_fr = clean_data(fr_lines)[0:data_len]"
   ]
  },
  {
   "cell_type": "code",
   "execution_count": 5,
   "metadata": {},
   "outputs": [
    {
     "name": "stdout",
     "output_type": "stream",
     "text": [
      "i should also like to make a few comments firstly mr berend regarding the assessment you have made of this sixth periodic report\n",
      "je voudrais a mon tour faire quelques observations dabord sur le jugement que vous portez monsieur le rapporteur sur ce sixieme rapport periodique\n"
     ]
    }
   ],
   "source": [
    "clean_en = np.array(clean_en)\n",
    "clean_fr = np.array(clean_fr)\n",
    "\n",
    "# A showcase \n",
    "print(clean_en[700])\n",
    "print(clean_fr[700])"
   ]
  },
  {
   "cell_type": "code",
   "execution_count": 6,
   "metadata": {},
   "outputs": [
    {
     "name": "stdout",
     "output_type": "stream",
     "text": [
      "Length of input_texts:  (30000,)\n",
      "Length of target_texts: (30000,)\n",
      "max length of input  sentences: 32\n",
      "max length of target sentences: 34\n"
     ]
    }
   ],
   "source": [
    "input_texts = clean_en\n",
    "target_texts = ['\\t' + text + '\\n' for text in clean_fr]\n",
    "\n",
    "print('Length of input_texts:  ' + str(input_texts.shape))\n",
    "print('Length of target_texts: ' + str(input_texts.shape))\n",
    "\n",
    "#This dataset includes lots of long sentence\n",
    "#But, if we set max length with a large number, CPU cannot handle that, so we set max_encode is 32\n",
    "#Becuase we add '\\t' and '\\n' to target, so the max_decode is 34\n",
    "max_encoder_seq_length = 32 \n",
    "max_decoder_seq_length = 34\n",
    "\n",
    "print('max length of input  sentences: %d' % (max_encoder_seq_length))\n",
    "print('max length of target sentences: %d' % (max_decoder_seq_length))"
   ]
  },
  {
   "cell_type": "markdown",
   "metadata": {},
   "source": [
    "## 2. Text Processing"
   ]
  },
  {
   "cell_type": "markdown",
   "metadata": {},
   "source": [
    "* Text to Sequence\n",
    "* One-hot embedding the sequence"
   ]
  },
  {
   "cell_type": "code",
   "execution_count": 7,
   "metadata": {},
   "outputs": [
    {
     "name": "stderr",
     "output_type": "stream",
     "text": [
      "Using TensorFlow backend.\n"
     ]
    }
   ],
   "source": [
    "from keras.preprocessing.text import Tokenizer\n",
    "from keras.preprocessing.sequence import pad_sequences"
   ]
  },
  {
   "cell_type": "code",
   "execution_count": 8,
   "metadata": {},
   "outputs": [
    {
     "name": "stdout",
     "output_type": "stream",
     "text": [
      "shape of encoder_input_seq: (30000, 32)\n",
      "shape of input_token_index: 27\n",
      "shape of decoder_input_seq: (30000, 34)\n",
      "shape of target_token_index: 29\n"
     ]
    }
   ],
   "source": [
    "def text2sequences(max_len, lines):\n",
    "    tokenizer = Tokenizer(char_level=True, filters='')\n",
    "    tokenizer.fit_on_texts(lines)\n",
    "    seqs = tokenizer.texts_to_sequences(lines)\n",
    "    seqs_pad = pad_sequences(seqs, maxlen=max_len, padding='post')\n",
    "    return seqs_pad, tokenizer.word_index\n",
    "\n",
    "encoder_input_seq, input_token_index = text2sequences(max_encoder_seq_length, \n",
    "                                                      input_texts)\n",
    "decoder_input_seq, target_token_index = text2sequences(max_decoder_seq_length, \n",
    "                                                       target_texts)\n",
    "\n",
    "print('shape of encoder_input_seq: ' + str(encoder_input_seq.shape))\n",
    "print('shape of input_token_index: ' + str(len(input_token_index)))\n",
    "print('shape of decoder_input_seq: ' + str(decoder_input_seq.shape))\n",
    "print('shape of target_token_index: ' + str(len(target_token_index)))"
   ]
  },
  {
   "cell_type": "code",
   "execution_count": 9,
   "metadata": {},
   "outputs": [
    {
     "name": "stdout",
     "output_type": "stream",
     "text": [
      "num_encoder_tokens: 28\n",
      "num_decoder_tokens: 30\n"
     ]
    }
   ],
   "source": [
    "num_encoder_tokens = len(input_token_index) +1\n",
    "num_decoder_tokens = len(target_token_index) +1\n",
    "\n",
    "print('num_encoder_tokens: ' + str(num_encoder_tokens))\n",
    "print('num_decoder_tokens: ' + str(num_decoder_tokens))"
   ]
  },
  {
   "cell_type": "code",
   "execution_count": 10,
   "metadata": {},
   "outputs": [],
   "source": [
    "from keras.utils import to_categorical"
   ]
  },
  {
   "cell_type": "code",
   "execution_count": 11,
   "metadata": {},
   "outputs": [],
   "source": [
    "def onehot_encode(sequences, max_len, vocab_size):\n",
    "    n = len(sequences)\n",
    "    data = np.zeros((n, max_len, vocab_size))\n",
    "    for i in range(n):\n",
    "        data[i, :, :] = to_categorical(sequences[i], num_classes=vocab_size)\n",
    "    return data"
   ]
  },
  {
   "cell_type": "code",
   "execution_count": 12,
   "metadata": {},
   "outputs": [
    {
     "name": "stdout",
     "output_type": "stream",
     "text": [
      "(30000, 32, 28)\n",
      "(30000, 34, 30)\n",
      "(30000, 34, 30)\n"
     ]
    }
   ],
   "source": [
    "encoder_input_data = onehot_encode(encoder_input_seq, max_encoder_seq_length, num_encoder_tokens)\n",
    "decoder_input_data = onehot_encode(decoder_input_seq, max_decoder_seq_length, num_decoder_tokens)\n",
    "\n",
    "decoder_target_seq = np.zeros(decoder_input_seq.shape)\n",
    "decoder_target_seq[:, 0:-1] = decoder_input_seq[:, 1:]\n",
    "decoder_target_data = onehot_encode(decoder_target_seq, \n",
    "                                    max_decoder_seq_length, \n",
    "                                    num_decoder_tokens)\n",
    "\n",
    "print(encoder_input_data.shape)\n",
    "print(decoder_input_data.shape)\n",
    "print(decoder_target_data.shape)"
   ]
  },
  {
   "cell_type": "markdown",
   "metadata": {},
   "source": [
    "* **Split the dataset to training part and validation part**\n",
    "* **24000 training sentence, 6000 validation sentence**"
   ]
  },
  {
   "cell_type": "code",
   "execution_count": 13,
   "metadata": {},
   "outputs": [],
   "source": [
    "rand_indices = np.random.permutation(data_len)\n",
    "\n",
    "train_count = int(np.floor(data_len * 0.8))\n",
    "train_indices = rand_indices[0:train_count]\n",
    "val_indices = rand_indices[train_count:data_len]\n",
    "\n",
    "input_texts_train = input_texts[train_indices]\n",
    "target_texts_train = np.asarray(target_texts)[train_indices]\n",
    "\n",
    "encoder_input_train = encoder_input_data[train_indices]\n",
    "decoder_input_train = decoder_input_data[train_indices]\n",
    "decoder_target_train = decoder_target_data[train_indices]\n",
    "\n",
    "input_texts_val = input_texts[val_indices]\n",
    "target_texts_val = np.asarray(target_texts)[val_indices]\n",
    "encoder_input_val = encoder_input_data[val_indices]\n",
    "decoder_input_val = decoder_input_data[val_indices]\n",
    "decoder_target_val = decoder_target_data[val_indices]"
   ]
  },
  {
   "cell_type": "markdown",
   "metadata": {},
   "source": [
    "## 3. Build Network"
   ]
  },
  {
   "cell_type": "markdown",
   "metadata": {},
   "source": [
    "### 3.1 Encoder"
   ]
  },
  {
   "cell_type": "code",
   "execution_count": 16,
   "metadata": {},
   "outputs": [
    {
     "name": "stdout",
     "output_type": "stream",
     "text": [
      "Model: \"encoder\"\n",
      "_________________________________________________________________\n",
      "Layer (type)                 Output Shape              Param #   \n",
      "=================================================================\n",
      "encoder_inputs (InputLayer)  (None, None, 28)          0         \n",
      "_________________________________________________________________\n",
      "encoder_rnn (SimpleRNN)      [(None, 256), (None, 256) 72960     \n",
      "=================================================================\n",
      "Total params: 72,960\n",
      "Trainable params: 72,960\n",
      "Non-trainable params: 0\n",
      "_________________________________________________________________\n"
     ]
    }
   ],
   "source": [
    "from keras.layers import Input, SimpleRNN\n",
    "from keras.models import Model\n",
    "\n",
    "latent_dim = 256\n",
    "\n",
    "# inputs of the encoder network\n",
    "encoder_inputs = Input(shape=(None, num_encoder_tokens), \n",
    "                       name='encoder_inputs')\n",
    "\n",
    "# set the LSTM layer\n",
    "encoder_rnn = SimpleRNN(latent_dim, return_state=True, name='encoder_rnn')\n",
    "_, state_h = encoder_rnn(encoder_inputs)\n",
    "\n",
    "\n",
    "# build the encoder network model\n",
    "encoder_model = Model(inputs=encoder_inputs, \n",
    "                      outputs=[state_h],\n",
    "                      name='encoder')\n",
    "encoder_model.summary()"
   ]
  },
  {
   "cell_type": "markdown",
   "metadata": {},
   "source": [
    "### 3.2 Decoder"
   ]
  },
  {
   "cell_type": "code",
   "execution_count": 18,
   "metadata": {},
   "outputs": [
    {
     "name": "stdout",
     "output_type": "stream",
     "text": [
      "Model: \"decoder\"\n",
      "__________________________________________________________________________________________________\n",
      "Layer (type)                    Output Shape         Param #     Connected to                     \n",
      "==================================================================================================\n",
      "decoder_input_x (InputLayer)    (None, None, 30)     0                                            \n",
      "__________________________________________________________________________________________________\n",
      "decoder_input_h (InputLayer)    (None, 256)          0                                            \n",
      "__________________________________________________________________________________________________\n",
      "decoder_rnn (SimpleRNN)         (None, None, 256)    73472       decoder_input_x[0][0]            \n",
      "                                                                 decoder_input_h[0][0]            \n",
      "__________________________________________________________________________________________________\n",
      "decoder_dense (Dense)           (None, None, 30)     7710        decoder_rnn[0][0]                \n",
      "==================================================================================================\n",
      "Total params: 81,182\n",
      "Trainable params: 81,182\n",
      "Non-trainable params: 0\n",
      "__________________________________________________________________________________________________\n"
     ]
    }
   ],
   "source": [
    "from keras.layers import Input, Dense, SimpleRNN\n",
    "from keras.models import Model\n",
    "\n",
    "# inputs of the decoder network\n",
    "decoder_inputs = Input(shape=(None, num_decoder_tokens), name='decoder_input_x')\n",
    "decoder_input_h = Input(shape=(latent_dim,), name='decoder_input_h')\n",
    "\n",
    "# set the LSTM layer\n",
    "decoder_rnn = SimpleRNN(latent_dim, return_sequences=True, name='decoder_rnn')\n",
    "decoder_outputs = decoder_rnn(decoder_inputs, initial_state=decoder_input_h)\n",
    "\n",
    "\n",
    "# set the dense layer\n",
    "decoder_dense = Dense(num_decoder_tokens, activation='softmax', name='decoder_dense')\n",
    "decoder_outputs = decoder_dense(decoder_outputs)\n",
    "\n",
    "# build the decoder network model\n",
    "decoder_model = Model(inputs=[decoder_inputs,decoder_input_h],\n",
    "                      outputs=[decoder_outputs], name='decoder')\n",
    "\n",
    "decoder_model.summary()"
   ]
  },
  {
   "cell_type": "markdown",
   "metadata": {},
   "source": [
    "### Encoder-Decoder"
   ]
  },
  {
   "cell_type": "code",
   "execution_count": 22,
   "metadata": {},
   "outputs": [
    {
     "name": "stdout",
     "output_type": "stream",
     "text": [
      "Model: \"model_training\"\n",
      "__________________________________________________________________________________________________\n",
      "Layer (type)                    Output Shape         Param #     Connected to                     \n",
      "==================================================================================================\n",
      "encoder_input_x (InputLayer)    (None, None, 28)     0                                            \n",
      "__________________________________________________________________________________________________\n",
      "decoder_input_x (InputLayer)    (None, None, 30)     0                                            \n",
      "__________________________________________________________________________________________________\n",
      "encoder (Model)                 (None, 256)          72960       encoder_input_x[0][0]            \n",
      "__________________________________________________________________________________________________\n",
      "decoder_rnn (SimpleRNN)         (None, None, 256)    73472       decoder_input_x[0][0]            \n",
      "                                                                 encoder[4][0]                    \n",
      "__________________________________________________________________________________________________\n",
      "decoder_dense (Dense)           (None, None, 30)     7710        decoder_rnn[3][0]                \n",
      "==================================================================================================\n",
      "Total params: 154,142\n",
      "Trainable params: 154,142\n",
      "Non-trainable params: 0\n",
      "__________________________________________________________________________________________________\n"
     ]
    }
   ],
   "source": [
    "# input layers\n",
    "encoder_input_x = Input(shape=(None, num_encoder_tokens), name='encoder_input_x')\n",
    "decoder_input_x = Input(shape=(None, num_decoder_tokens), name='decoder_input_x')\n",
    "\n",
    "# connect encoder to decoder\n",
    "encoder_final_states = encoder_model([encoder_input_x])\n",
    "decoder_rnn_output = decoder_rnn(decoder_input_x, initial_state=encoder_final_states)\n",
    "decoder_pred = decoder_dense(decoder_rnn_output)\n",
    "\n",
    "model = Model(inputs=[encoder_input_x, decoder_input_x], \n",
    "              outputs=decoder_pred, \n",
    "              name='model_training')\n",
    "\n",
    "model.summary()"
   ]
  },
  {
   "cell_type": "markdown",
   "metadata": {},
   "source": [
    "## 4. Training and Evaluate Model"
   ]
  },
  {
   "cell_type": "markdown",
   "metadata": {},
   "source": [
    "### 4.1 Training"
   ]
  },
  {
   "cell_type": "code",
   "execution_count": 23,
   "metadata": {},
   "outputs": [
    {
     "name": "stdout",
     "output_type": "stream",
     "text": [
      "Train on 24000 samples, validate on 6000 samples\n",
      "Epoch 1/50\n",
      "24000/24000 [==============================] - 15s 620us/step - loss: 2.1336 - val_loss: 1.8739\n",
      "Epoch 2/50\n",
      "24000/24000 [==============================] - 14s 601us/step - loss: 1.8217 - val_loss: 1.7760\n",
      "Epoch 3/50\n",
      "24000/24000 [==============================] - 14s 602us/step - loss: 1.7306 - val_loss: 1.6939\n",
      "Epoch 4/50\n",
      "24000/24000 [==============================] - 14s 598us/step - loss: 1.6382 - val_loss: 1.6108\n",
      "Epoch 5/50\n",
      "24000/24000 [==============================] - 14s 577us/step - loss: 1.5575 - val_loss: 1.5380\n",
      "Epoch 6/50\n",
      "24000/24000 [==============================] - 15s 610us/step - loss: 1.4929 - val_loss: 1.4965\n",
      "Epoch 7/50\n",
      "24000/24000 [==============================] - 14s 601us/step - loss: 1.4422 - val_loss: 1.4660\n",
      "Epoch 8/50\n",
      "24000/24000 [==============================] - 14s 597us/step - loss: 1.4009 - val_loss: 1.4135\n",
      "Epoch 9/50\n",
      "24000/24000 [==============================] - 15s 605us/step - loss: 1.3662 - val_loss: 1.3893\n",
      "Epoch 10/50\n",
      "24000/24000 [==============================] - 15s 608us/step - loss: 1.3370 - val_loss: 1.3652\n",
      "Epoch 11/50\n",
      "24000/24000 [==============================] - 14s 600us/step - loss: 1.3121 - val_loss: 1.3356\n",
      "Epoch 12/50\n",
      "24000/24000 [==============================] - 15s 609us/step - loss: 1.2904 - val_loss: 1.3265\n",
      "Epoch 13/50\n",
      "24000/24000 [==============================] - 14s 603us/step - loss: 1.2708 - val_loss: 1.3129\n",
      "Epoch 14/50\n",
      "24000/24000 [==============================] - 15s 612us/step - loss: 1.2534 - val_loss: 1.2911\n",
      "Epoch 15/50\n",
      "24000/24000 [==============================] - 14s 596us/step - loss: 1.2373 - val_loss: 1.2896\n",
      "Epoch 16/50\n",
      "24000/24000 [==============================] - 15s 610us/step - loss: 1.2249 - val_loss: 1.2754\n",
      "Epoch 17/50\n",
      "24000/24000 [==============================] - 14s 601us/step - loss: 1.2121 - val_loss: 1.2603\n",
      "Epoch 18/50\n",
      "24000/24000 [==============================] - 15s 606us/step - loss: 1.2009 - val_loss: 1.2624\n",
      "Epoch 19/50\n",
      "24000/24000 [==============================] - 15s 609us/step - loss: 1.1909 - val_loss: 1.2504\n",
      "Epoch 20/50\n",
      "24000/24000 [==============================] - 14s 599us/step - loss: 1.1908 - val_loss: 1.2438\n",
      "Epoch 21/50\n",
      "24000/24000 [==============================] - 15s 608us/step - loss: 1.1729 - val_loss: 1.2348\n",
      "Epoch 22/50\n",
      "24000/24000 [==============================] - 15s 616us/step - loss: 1.1647 - val_loss: 1.2358\n",
      "Epoch 23/50\n",
      "24000/24000 [==============================] - 14s 604us/step - loss: 1.1561 - val_loss: 1.2323\n",
      "Epoch 24/50\n",
      "24000/24000 [==============================] - 15s 606us/step - loss: 1.1494 - val_loss: 1.2232\n",
      "Epoch 25/50\n",
      "24000/24000 [==============================] - 14s 601us/step - loss: 1.1430 - val_loss: 1.2194\n",
      "Epoch 26/50\n",
      "24000/24000 [==============================] - 14s 601us/step - loss: 1.1368 - val_loss: 1.2129\n",
      "Epoch 27/50\n",
      "24000/24000 [==============================] - 15s 612us/step - loss: 1.1307 - val_loss: 1.2122\n",
      "Epoch 28/50\n",
      "24000/24000 [==============================] - 14s 604us/step - loss: 1.1254 - val_loss: 1.2122\n",
      "Epoch 29/50\n",
      "24000/24000 [==============================] - 15s 615us/step - loss: 1.1688 - val_loss: 1.2304\n",
      "Epoch 30/50\n",
      "24000/24000 [==============================] - 15s 606us/step - loss: 1.1295 - val_loss: 1.2001\n",
      "Epoch 31/50\n",
      "24000/24000 [==============================] - 15s 607us/step - loss: 1.1146 - val_loss: 1.1968\n",
      "Epoch 32/50\n",
      "24000/24000 [==============================] - 15s 608us/step - loss: 1.1085 - val_loss: 1.1930\n",
      "Epoch 33/50\n",
      "24000/24000 [==============================] - 15s 606us/step - loss: 1.1035 - val_loss: 1.1936\n",
      "Epoch 34/50\n",
      "24000/24000 [==============================] - 15s 605us/step - loss: 1.0996 - val_loss: 1.1894\n",
      "Epoch 35/50\n",
      "24000/24000 [==============================] - 15s 612us/step - loss: 1.0953 - val_loss: 1.1951\n",
      "Epoch 36/50\n",
      "24000/24000 [==============================] - 14s 588us/step - loss: 1.0919 - val_loss: 1.1921\n",
      "Epoch 37/50\n",
      "24000/24000 [==============================] - 14s 596us/step - loss: 1.0881 - val_loss: 1.1893\n",
      "Epoch 38/50\n",
      "24000/24000 [==============================] - 14s 595us/step - loss: 1.0847 - val_loss: 1.1884\n",
      "Epoch 39/50\n",
      "24000/24000 [==============================] - 14s 595us/step - loss: 1.0821 - val_loss: 1.1838\n",
      "Epoch 40/50\n",
      "24000/24000 [==============================] - 14s 604us/step - loss: 1.0786 - val_loss: 1.1872\n",
      "Epoch 41/50\n",
      "24000/24000 [==============================] - 14s 602us/step - loss: 1.0768 - val_loss: 1.1867\n",
      "Epoch 42/50\n",
      "24000/24000 [==============================] - 15s 612us/step - loss: 1.0728 - val_loss: 1.1835\n",
      "Epoch 43/50\n",
      "24000/24000 [==============================] - 15s 610us/step - loss: 1.0805 - val_loss: 1.1861\n",
      "Epoch 44/50\n",
      "24000/24000 [==============================] - 15s 608us/step - loss: 1.0698 - val_loss: 1.1837\n",
      "Epoch 45/50\n",
      "24000/24000 [==============================] - 15s 607us/step - loss: 1.0654 - val_loss: 1.1870\n",
      "Epoch 46/50\n",
      "24000/24000 [==============================] - 15s 611us/step - loss: 1.0627 - val_loss: 1.1800\n",
      "Epoch 47/50\n",
      "24000/24000 [==============================] - 15s 606us/step - loss: 1.0601 - val_loss: 1.1860\n",
      "Epoch 48/50\n",
      "24000/24000 [==============================] - 15s 617us/step - loss: 1.0580 - val_loss: 1.1765\n",
      "Epoch 49/50\n",
      "24000/24000 [==============================] - 15s 608us/step - loss: 1.0555 - val_loss: 1.1849\n",
      "Epoch 50/50\n",
      "24000/24000 [==============================] - 15s 615us/step - loss: 1.0534 - val_loss: 1.1822\n"
     ]
    }
   ],
   "source": [
    "model.compile(optimizer='rmsprop', loss='categorical_crossentropy')\n",
    "\n",
    "history = model.fit([encoder_input_train, decoder_input_train],  # training data\n",
    "                      decoder_target_train,                       # labels (left shift of the target sequences)\n",
    "                      batch_size=64, epochs=50, \n",
    "                      validation_data= ([encoder_input_val, decoder_input_val],decoder_target_val))\n",
    "\n",
    "model.save('seq2seq_gru.h5')"
   ]
  },
  {
   "cell_type": "code",
   "execution_count": 24,
   "metadata": {},
   "outputs": [
    {
     "data": {
      "image/png": "[encoded data removed]",
      "text/plain": [
       "<Figure size 432x288 with 1 Axes>"
      ]
     },
     "metadata": {
      "needs_background": "light"
     },
     "output_type": "display_data"
    }
   ],
   "source": [
    "import matplotlib.pyplot as plt\n",
    "%matplotlib inline\n",
    "\n",
    "loss = history.history['loss']\n",
    "val_loss = history.history['val_loss']\n",
    "\n",
    "epochs = range(len(loss))\n",
    "\n",
    "plt.plot(epochs, loss, 'bo', label='Training Loss')\n",
    "plt.plot(epochs, val_loss, 'r', label='Validation Loss')\n",
    "plt.xlabel('Epochs')\n",
    "plt.ylabel('Loss')\n",
    "plt.legend()\n",
    "plt.show()"
   ]
  }
 ],
 "metadata": {
  "kernelspec": {
   "display_name": "Python 3",
   "language": "python",
   "name": "python3"
  },
  "language_info": {
   "codemirror_mode": {
    "name": "ipython",
    "version": 3
   },
   "file_extension": ".py",
   "mimetype": "text/x-python",
   "name": "python",
   "nbconvert_exporter": "python",
   "pygments_lexer": "ipython3",
   "version": "3.7.4"
  }
 },
 "nbformat": 4,
 "nbformat_minor": 4
}
