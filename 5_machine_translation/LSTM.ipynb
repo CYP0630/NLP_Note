{
 "cells": [
  {
   "cell_type": "markdown",
   "metadata": {},
   "source": [
    "# CS584 Homework 5: Machine Translation"
   ]
  },
  {
   "cell_type": "markdown",
   "metadata": {},
   "source": [
    "# Seq2Seq: LSTM"
   ]
  },
  {
   "cell_type": "markdown",
   "metadata": {},
   "source": [
    "* English to French"
   ]
  },
  {
   "cell_type": "markdown",
   "metadata": {},
   "source": [
    "## 1. Data preparation¶\n"
   ]
  },
  {
   "cell_type": "code",
   "execution_count": 1,
   "metadata": {},
   "outputs": [],
   "source": [
    "import re\n",
    "import string\n",
    "from unicodedata import normalize\n",
    "import numpy as np"
   ]
  },
  {
   "cell_type": "code",
   "execution_count": 2,
   "metadata": {},
   "outputs": [],
   "source": [
    "\"\"\"\n",
    "load_doc: loading file \n",
    "to_line: cutting the the whole file to line by line\n",
    "clean_data: remove the symble, url, or other irrevalent information \n",
    "\n",
    "\"\"\"\n",
    "\n",
    "def load_doc(filename):\n",
    "    # open the file as read only\n",
    "    file = open(filename, mode='rt', encoding='utf-8')\n",
    "    # read all text\n",
    "    text = file.read()\n",
    "    # close the file\n",
    "    file.close()\n",
    "    return text\n",
    "\n",
    "def to_line(doc):\n",
    "    lines = doc.strip().split('\\n')\n",
    "    pairs = [line.split('\\t') for line in  lines]\n",
    "    return lines\n",
    "\n",
    "def clean_data(lines):\n",
    "    cleaned = list()\n",
    "    # prepare regex for char filtering\n",
    "    re_print = re.compile('[^%s]' % re.escape(string.printable))\n",
    "    # prepare translation table for removing punctuation\n",
    "    table = str.maketrans('', '', string.punctuation)\n",
    "    for line in lines:\n",
    "        # normalize unicode characters\n",
    "        line = normalize('NFD', line).encode('utf-8', 'ignore')\n",
    "        #print(line)\n",
    "        line = line.decode('UTF-8')\n",
    "            \n",
    "        # tokenize on white space\n",
    "        line = line.split()\n",
    "            \n",
    "        # convert to lowercase\n",
    "        line = [word.lower() for word in line]\n",
    "            \n",
    "        # remove punctuation from each token\n",
    "        line = [word.translate(table) for word in line]\n",
    "            \n",
    "         # remove non-printable chars form each token\n",
    "        line = [re_print.sub('', w) for w in line]\n",
    "        #print(line)\n",
    "        # remove tokens with numbers in them\n",
    "        line = [word for word in line if word.isalpha()]\n",
    "            \n",
    "        # store as string\n",
    "        cleaned.append(' '.join(line))\n",
    "    return cleaned"
   ]
  },
  {
   "cell_type": "code",
   "execution_count": 3,
   "metadata": {},
   "outputs": [
    {
     "name": "stdout",
     "output_type": "stream",
     "text": [
      "English sentencens match with French sentences \n",
      "\n",
      "English sentence: 2007723 \n",
      "\n",
      "French sentence: 2007723 \n",
      "\n"
     ]
    }
   ],
   "source": [
    "# Using the first 30000 sentences to contruct dataset\n",
    "data_len = 30000\n",
    "\n",
    "en = load_doc('europarl-v7.fr-en.en')\n",
    "en_lines = to_line(en)\n",
    "fr = load_doc('europarl-v7.fr-en.fr')\n",
    "fr_lines = to_line(fr)\n",
    "\n",
    "if len(en_lines) == len(fr_lines):\n",
    "    print('English sentencens match with French sentences \\n')\n",
    "    print('English sentence:', len(en_lines), '\\n')\n",
    "    print('French sentence:', len(fr_lines), '\\n')\n",
    "else :\n",
    "    print('English sentencens does not match with French sentences')"
   ]
  },
  {
   "cell_type": "code",
   "execution_count": 4,
   "metadata": {},
   "outputs": [],
   "source": [
    "#cleaning english part and french part \n",
    "clean_en = clean_data(en_lines)[0:data_len]\n",
    "clean_fr = clean_data(fr_lines)[0:data_len]"
   ]
  },
  {
   "cell_type": "code",
   "execution_count": 5,
   "metadata": {},
   "outputs": [
    {
     "name": "stdout",
     "output_type": "stream",
     "text": [
      "i should also like to make a few comments firstly mr berend regarding the assessment you have made of this sixth periodic report\n",
      "je voudrais a mon tour faire quelques observations dabord sur le jugement que vous portez monsieur le rapporteur sur ce sixieme rapport periodique\n"
     ]
    }
   ],
   "source": [
    "clean_en = np.array(clean_en)\n",
    "clean_fr = np.array(clean_fr)\n",
    "\n",
    "# A showcase \n",
    "print(clean_en[700])\n",
    "print(clean_fr[700])"
   ]
  },
  {
   "cell_type": "code",
   "execution_count": 6,
   "metadata": {},
   "outputs": [
    {
     "name": "stdout",
     "output_type": "stream",
     "text": [
      "Length of input_texts:  (30000,)\n",
      "Length of target_texts: (30000,)\n",
      "max length of input  sentences: 32\n",
      "max length of target sentences: 34\n"
     ]
    }
   ],
   "source": [
    "input_texts = clean_en\n",
    "target_texts = ['\\t' + text + '\\n' for text in clean_fr]\n",
    "\n",
    "print('Length of input_texts:  ' + str(input_texts.shape))\n",
    "print('Length of target_texts: ' + str(input_texts.shape))\n",
    "\n",
    "#This dataset includes lots of long sentence\n",
    "#But, if we set max length with a large number, CPU cannot handle that, so we set max_encode is 32\n",
    "#Becuase we add '\\t' and '\\n' to target, so the max_decode is 34\n",
    "max_encoder_seq_length = 32 \n",
    "max_decoder_seq_length = 34\n",
    "\n",
    "print('max length of input  sentences: %d' % (max_encoder_seq_length))\n",
    "print('max length of target sentences: %d' % (max_decoder_seq_length))"
   ]
  },
  {
   "cell_type": "markdown",
   "metadata": {},
   "source": [
    "## 2. Text Processing"
   ]
  },
  {
   "cell_type": "markdown",
   "metadata": {},
   "source": [
    "* Text to Sequence\n",
    "* One-hot embedding the sequence"
   ]
  },
  {
   "cell_type": "code",
   "execution_count": 7,
   "metadata": {},
   "outputs": [
    {
     "name": "stderr",
     "output_type": "stream",
     "text": [
      "Using TensorFlow backend.\n"
     ]
    }
   ],
   "source": [
    "from keras.preprocessing.text import Tokenizer\n",
    "from keras.preprocessing.sequence import pad_sequences"
   ]
  },
  {
   "cell_type": "code",
   "execution_count": 8,
   "metadata": {},
   "outputs": [
    {
     "name": "stdout",
     "output_type": "stream",
     "text": [
      "shape of encoder_input_seq: (30000, 32)\n",
      "shape of input_token_index: 27\n",
      "shape of decoder_input_seq: (30000, 34)\n",
      "shape of target_token_index: 29\n"
     ]
    }
   ],
   "source": [
    "def text2sequences(max_len, lines):\n",
    "    tokenizer = Tokenizer(char_level=True, filters='')\n",
    "    tokenizer.fit_on_texts(lines)\n",
    "    seqs = tokenizer.texts_to_sequences(lines)\n",
    "    seqs_pad = pad_sequences(seqs, maxlen=max_len, padding='post')\n",
    "    return seqs_pad, tokenizer.word_index\n",
    "\n",
    "encoder_input_seq, input_token_index = text2sequences(max_encoder_seq_length, \n",
    "                                                      input_texts)\n",
    "decoder_input_seq, target_token_index = text2sequences(max_decoder_seq_length, \n",
    "                                                       target_texts)\n",
    "\n",
    "print('shape of encoder_input_seq: ' + str(encoder_input_seq.shape))\n",
    "print('shape of input_token_index: ' + str(len(input_token_index)))\n",
    "print('shape of decoder_input_seq: ' + str(decoder_input_seq.shape))\n",
    "print('shape of target_token_index: ' + str(len(target_token_index)))"
   ]
  },
  {
   "cell_type": "code",
   "execution_count": 9,
   "metadata": {},
   "outputs": [
    {
     "name": "stdout",
     "output_type": "stream",
     "text": [
      "num_encoder_tokens: 28\n",
      "num_decoder_tokens: 30\n"
     ]
    }
   ],
   "source": [
    "num_encoder_tokens = len(input_token_index) +1\n",
    "num_decoder_tokens = len(target_token_index) +1\n",
    "\n",
    "print('num_encoder_tokens: ' + str(num_encoder_tokens))\n",
    "print('num_decoder_tokens: ' + str(num_decoder_tokens))"
   ]
  },
  {
   "cell_type": "code",
   "execution_count": 10,
   "metadata": {},
   "outputs": [],
   "source": [
    "from keras.utils import to_categorical"
   ]
  },
  {
   "cell_type": "code",
   "execution_count": 11,
   "metadata": {},
   "outputs": [],
   "source": [
    "def onehot_encode(sequences, max_len, vocab_size):\n",
    "    n = len(sequences)\n",
    "    data = np.zeros((n, max_len, vocab_size))\n",
    "    for i in range(n):\n",
    "        data[i, :, :] = to_categorical(sequences[i], num_classes=vocab_size)\n",
    "    return data"
   ]
  },
  {
   "cell_type": "code",
   "execution_count": 12,
   "metadata": {},
   "outputs": [
    {
     "name": "stdout",
     "output_type": "stream",
     "text": [
      "(30000, 32, 28)\n",
      "(30000, 34, 30)\n",
      "(30000, 34, 30)\n"
     ]
    }
   ],
   "source": [
    "encoder_input_data = onehot_encode(encoder_input_seq, max_encoder_seq_length, num_encoder_tokens)\n",
    "decoder_input_data = onehot_encode(decoder_input_seq, max_decoder_seq_length, num_decoder_tokens)\n",
    "\n",
    "decoder_target_seq = np.zeros(decoder_input_seq.shape)\n",
    "decoder_target_seq[:, 0:-1] = decoder_input_seq[:, 1:]\n",
    "decoder_target_data = onehot_encode(decoder_target_seq, \n",
    "                                    max_decoder_seq_length, \n",
    "                                    num_decoder_tokens)\n",
    "\n",
    "print(encoder_input_data.shape)\n",
    "print(decoder_input_data.shape)\n",
    "print(decoder_target_data.shape)"
   ]
  },
  {
   "cell_type": "markdown",
   "metadata": {},
   "source": [
    "* **Split the dataset to training part and validation part**\n",
    "* **24000 training sentence, 6000 validation sentence**"
   ]
  },
  {
   "cell_type": "code",
   "execution_count": 13,
   "metadata": {},
   "outputs": [],
   "source": [
    "rand_indices = np.random.permutation(data_len)\n",
    "\n",
    "train_count = int(np.floor(data_len * 0.8))\n",
    "train_indices = rand_indices[0:train_count]\n",
    "val_indices = rand_indices[train_count:data_len]\n",
    "\n",
    "input_texts_train = input_texts[train_indices]\n",
    "target_texts_train = np.asarray(target_texts)[train_indices]\n",
    "\n",
    "encoder_input_train = encoder_input_data[train_indices]\n",
    "decoder_input_train = decoder_input_data[train_indices]\n",
    "decoder_target_train = decoder_target_data[train_indices]\n",
    "\n",
    "input_texts_val = input_texts[val_indices]\n",
    "target_texts_val = np.asarray(target_texts)[val_indices]\n",
    "encoder_input_val = encoder_input_data[val_indices]\n",
    "decoder_input_val = decoder_input_data[val_indices]\n",
    "decoder_target_val = decoder_target_data[val_indices]"
   ]
  },
  {
   "cell_type": "markdown",
   "metadata": {},
   "source": [
    "## 3. Build Network"
   ]
  },
  {
   "cell_type": "markdown",
   "metadata": {},
   "source": [
    "### 3.1 Encoder"
   ]
  },
  {
   "cell_type": "code",
   "execution_count": 14,
   "metadata": {},
   "outputs": [
    {
     "name": "stdout",
     "output_type": "stream",
     "text": [
      "Model: \"encoder\"\n",
      "_________________________________________________________________\n",
      "Layer (type)                 Output Shape              Param #   \n",
      "=================================================================\n",
      "encoder_inputs (InputLayer)  (None, None, 28)          0         \n",
      "_________________________________________________________________\n",
      "encoder_lstm (LSTM)          [(None, 256), (None, 256) 291840    \n",
      "=================================================================\n",
      "Total params: 291,840\n",
      "Trainable params: 291,840\n",
      "Non-trainable params: 0\n",
      "_________________________________________________________________\n"
     ]
    }
   ],
   "source": [
    "from keras.layers import Input, LSTM\n",
    "from keras.models import Model\n",
    "\n",
    "latent_dim = 256\n",
    "\n",
    "# inputs of the encoder network\n",
    "encoder_inputs = Input(shape=(None, num_encoder_tokens), \n",
    "                       name='encoder_inputs')\n",
    "\n",
    "# set the LSTM layer\n",
    "encoder_lstm = LSTM(latent_dim, return_state=True, \n",
    "                    dropout=0.5, name='encoder_lstm')\n",
    "_, state_h, state_c = encoder_lstm(encoder_inputs)\n",
    "\n",
    "# build the encoder network model\n",
    "encoder_model = Model(inputs=encoder_inputs, \n",
    "                      outputs=[state_h, state_c],\n",
    "                      name='encoder')\n",
    "encoder_model.summary()"
   ]
  },
  {
   "cell_type": "markdown",
   "metadata": {},
   "source": [
    "### 3.2 Decoder"
   ]
  },
  {
   "cell_type": "code",
   "execution_count": 15,
   "metadata": {},
   "outputs": [
    {
     "name": "stdout",
     "output_type": "stream",
     "text": [
      "Model: \"decoder\"\n",
      "__________________________________________________________________________________________________\n",
      "Layer (type)                    Output Shape         Param #     Connected to                     \n",
      "==================================================================================================\n",
      "decoder_input_x (InputLayer)    (None, None, 30)     0                                            \n",
      "__________________________________________________________________________________________________\n",
      "decoder_input_h (InputLayer)    (None, 256)          0                                            \n",
      "__________________________________________________________________________________________________\n",
      "decoder_input_c (InputLayer)    (None, 256)          0                                            \n",
      "__________________________________________________________________________________________________\n",
      "decoder_lstm (LSTM)             [(None, None, 256),  293888      decoder_input_x[0][0]            \n",
      "                                                                 decoder_input_h[0][0]            \n",
      "                                                                 decoder_input_c[0][0]            \n",
      "__________________________________________________________________________________________________\n",
      "decoder_dense (Dense)           (None, None, 30)     7710        decoder_lstm[0][0]               \n",
      "==================================================================================================\n",
      "Total params: 301,598\n",
      "Trainable params: 301,598\n",
      "Non-trainable params: 0\n",
      "__________________________________________________________________________________________________\n"
     ]
    }
   ],
   "source": [
    "from keras.layers import Input, LSTM, Dense\n",
    "from keras.models import Model\n",
    "\n",
    "# inputs of the decoder network\n",
    "decoder_input_h = Input(shape=(latent_dim,), name='decoder_input_h')\n",
    "decoder_input_c = Input(shape=(latent_dim,), name='decoder_input_c')\n",
    "decoder_input_x = Input(shape=(None, num_decoder_tokens), name='decoder_input_x')\n",
    "\n",
    "# set the LSTM layer\n",
    "decoder_lstm = LSTM(latent_dim, return_sequences=True, \n",
    "                    return_state=True, dropout=0.5, name='decoder_lstm')\n",
    "decoder_lstm_outputs, state_h, state_c = decoder_lstm(decoder_input_x, \n",
    "                                                      initial_state=[decoder_input_h, decoder_input_c])\n",
    "\n",
    "# set the dense layer\n",
    "decoder_dense = Dense(num_decoder_tokens, activation='softmax', name='decoder_dense')\n",
    "decoder_outputs = decoder_dense(decoder_lstm_outputs)\n",
    "\n",
    "# build the decoder network model\n",
    "decoder_model = Model(inputs=[decoder_input_x, decoder_input_h, decoder_input_c],\n",
    "                      outputs=[decoder_outputs, state_h, state_c],\n",
    "                      name='decoder')\n",
    "\n",
    "decoder_model.summary()"
   ]
  },
  {
   "cell_type": "markdown",
   "metadata": {},
   "source": [
    "### Encoder-Decoder"
   ]
  },
  {
   "cell_type": "code",
   "execution_count": 16,
   "metadata": {},
   "outputs": [
    {
     "name": "stdout",
     "output_type": "stream",
     "text": [
      "Model: \"model_training\"\n",
      "__________________________________________________________________________________________________\n",
      "Layer (type)                    Output Shape         Param #     Connected to                     \n",
      "==================================================================================================\n",
      "encoder_input_x (InputLayer)    (None, None, 28)     0                                            \n",
      "__________________________________________________________________________________________________\n",
      "decoder_input_x (InputLayer)    (None, None, 30)     0                                            \n",
      "__________________________________________________________________________________________________\n",
      "encoder (Model)                 [(None, 256), (None, 291840      encoder_input_x[0][0]            \n",
      "__________________________________________________________________________________________________\n",
      "decoder_lstm (LSTM)             [(None, None, 256),  293888      decoder_input_x[0][0]            \n",
      "                                                                 encoder[1][0]                    \n",
      "                                                                 encoder[1][1]                    \n",
      "__________________________________________________________________________________________________\n",
      "decoder_dense (Dense)           (None, None, 30)     7710        decoder_lstm[1][0]               \n",
      "==================================================================================================\n",
      "Total params: 593,438\n",
      "Trainable params: 593,438\n",
      "Non-trainable params: 0\n",
      "__________________________________________________________________________________________________\n"
     ]
    }
   ],
   "source": [
    "# input layers\n",
    "encoder_input_x = Input(shape=(None, num_encoder_tokens), name='encoder_input_x')\n",
    "decoder_input_x = Input(shape=(None, num_decoder_tokens), name='decoder_input_x')\n",
    "\n",
    "# connect encoder to decoder\n",
    "encoder_final_states = encoder_model([encoder_input_x])\n",
    "decoder_lstm_output, _, _ = decoder_lstm(decoder_input_x, initial_state=encoder_final_states)\n",
    "decoder_pred = decoder_dense(decoder_lstm_output)\n",
    "\n",
    "model = Model(inputs=[encoder_input_x, decoder_input_x], \n",
    "              outputs=decoder_pred, \n",
    "              name='model_training')\n",
    "\n",
    "model.summary()"
   ]
  },
  {
   "cell_type": "markdown",
   "metadata": {},
   "source": [
    "## 4. Training and Evaluate Model"
   ]
  },
  {
   "cell_type": "markdown",
   "metadata": {},
   "source": [
    "### 4.1 Training"
   ]
  },
  {
   "cell_type": "code",
   "execution_count": 17,
   "metadata": {},
   "outputs": [
    {
     "name": "stdout",
     "output_type": "stream",
     "text": [
      "Train on 24000 samples, validate on 6000 samples\n",
      "Epoch 1/50\n",
      "24000/24000 [==============================] - 23s 955us/step - loss: 2.4671 - val_loss: 2.0818\n",
      "Epoch 2/50\n",
      "24000/24000 [==============================] - 22s 915us/step - loss: 2.2440 - val_loss: 1.9363\n",
      "Epoch 3/50\n",
      "24000/24000 [==============================] - 22s 912us/step - loss: 2.1595 - val_loss: 1.8340\n",
      "Epoch 4/50\n",
      "24000/24000 [==============================] - 22s 909us/step - loss: 2.1042 - val_loss: 1.7860\n",
      "Epoch 5/50\n",
      "24000/24000 [==============================] - 22s 908us/step - loss: 2.0597 - val_loss: 1.6961\n",
      "Epoch 6/50\n",
      "24000/24000 [==============================] - 22s 911us/step - loss: 2.0255 - val_loss: 1.6529\n",
      "Epoch 7/50\n",
      "24000/24000 [==============================] - 22s 899us/step - loss: 1.9953 - val_loss: 1.6131\n",
      "Epoch 8/50\n",
      "24000/24000 [==============================] - 22s 924us/step - loss: 1.9724 - val_loss: 1.5861\n",
      "Epoch 9/50\n",
      "24000/24000 [==============================] - 22s 915us/step - loss: 1.9520 - val_loss: 1.5922\n",
      "Epoch 10/50\n",
      "24000/24000 [==============================] - 22s 919us/step - loss: 1.9372 - val_loss: 1.5329\n",
      "Epoch 11/50\n",
      "24000/24000 [==============================] - 22s 916us/step - loss: 1.9223 - val_loss: 1.5094\n",
      "Epoch 12/50\n",
      "24000/24000 [==============================] - 22s 919us/step - loss: 1.9107 - val_loss: 1.4978\n",
      "Epoch 13/50\n",
      "24000/24000 [==============================] - 22s 915us/step - loss: 1.8976 - val_loss: 1.6041\n",
      "Epoch 14/50\n",
      "24000/24000 [==============================] - 22s 911us/step - loss: 1.8862 - val_loss: 1.4756\n",
      "Epoch 15/50\n",
      "24000/24000 [==============================] - 22s 922us/step - loss: 1.8764 - val_loss: 1.4560\n",
      "Epoch 16/50\n",
      "24000/24000 [==============================] - 22s 919us/step - loss: 1.8686 - val_loss: 1.4412\n",
      "Epoch 17/50\n",
      "24000/24000 [==============================] - 22s 925us/step - loss: 1.8590 - val_loss: 1.4737\n",
      "Epoch 18/50\n",
      "24000/24000 [==============================] - 22s 911us/step - loss: 1.8495 - val_loss: 1.4485\n",
      "Epoch 19/50\n",
      "24000/24000 [==============================] - 22s 908us/step - loss: 1.8449 - val_loss: 1.4195\n",
      "Epoch 20/50\n",
      "24000/24000 [==============================] - 22s 924us/step - loss: 1.8381 - val_loss: 1.4051\n",
      "Epoch 21/50\n",
      "24000/24000 [==============================] - 22s 903us/step - loss: 1.8315 - val_loss: 1.4013\n",
      "Epoch 22/50\n",
      "24000/24000 [==============================] - 22s 917us/step - loss: 1.8254 - val_loss: 1.3868\n",
      "Epoch 23/50\n",
      "24000/24000 [==============================] - 22s 920us/step - loss: 1.8239 - val_loss: 1.3859\n",
      "Epoch 24/50\n",
      "24000/24000 [==============================] - 22s 929us/step - loss: 1.8174 - val_loss: 1.3748\n",
      "Epoch 25/50\n",
      "24000/24000 [==============================] - 22s 921us/step - loss: 1.8136 - val_loss: 1.3747\n",
      "Epoch 26/50\n",
      "24000/24000 [==============================] - 22s 911us/step - loss: 1.8028 - val_loss: 1.3613\n",
      "Epoch 27/50\n",
      "24000/24000 [==============================] - 22s 920us/step - loss: 1.8043 - val_loss: 1.3569\n",
      "Epoch 28/50\n",
      "24000/24000 [==============================] - 22s 911us/step - loss: 1.7962 - val_loss: 1.3604\n",
      "Epoch 29/50\n",
      "24000/24000 [==============================] - 22s 914us/step - loss: 1.7916 - val_loss: 1.3574\n",
      "Epoch 30/50\n",
      "24000/24000 [==============================] - 22s 920us/step - loss: 1.7888 - val_loss: 1.3457\n",
      "Epoch 31/50\n",
      "24000/24000 [==============================] - 22s 916us/step - loss: 1.7848 - val_loss: 1.3406\n",
      "Epoch 32/50\n",
      "24000/24000 [==============================] - 22s 910us/step - loss: 1.7817 - val_loss: 1.3353\n",
      "Epoch 33/50\n",
      "24000/24000 [==============================] - 22s 911us/step - loss: 1.7808 - val_loss: 1.3391\n",
      "Epoch 34/50\n",
      "24000/24000 [==============================] - 22s 910us/step - loss: 1.7762 - val_loss: 1.3285\n",
      "Epoch 35/50\n",
      "24000/24000 [==============================] - 22s 926us/step - loss: 1.7723 - val_loss: 1.4231\n",
      "Epoch 36/50\n",
      "24000/24000 [==============================] - 22s 928us/step - loss: 1.7678 - val_loss: 1.3246\n",
      "Epoch 37/50\n",
      "24000/24000 [==============================] - 22s 922us/step - loss: 1.7657 - val_loss: 1.3264\n",
      "Epoch 38/50\n",
      "24000/24000 [==============================] - 22s 921us/step - loss: 1.7605 - val_loss: 1.3153\n",
      "Epoch 39/50\n",
      "24000/24000 [==============================] - 22s 916us/step - loss: 1.7632 - val_loss: 1.3102\n",
      "Epoch 40/50\n",
      "24000/24000 [==============================] - 22s 910us/step - loss: 1.7580 - val_loss: 1.3126\n",
      "Epoch 41/50\n",
      "24000/24000 [==============================] - 22s 904us/step - loss: 1.7541 - val_loss: 1.3230\n",
      "Epoch 42/50\n",
      "24000/24000 [==============================] - 22s 927us/step - loss: 1.7534 - val_loss: 1.3055\n",
      "Epoch 43/50\n",
      "24000/24000 [==============================] - 22s 925us/step - loss: 1.7501 - val_loss: 1.3023\n",
      "Epoch 44/50\n",
      "24000/24000 [==============================] - 22s 923us/step - loss: 1.7489 - val_loss: 1.3123\n",
      "Epoch 45/50\n",
      "24000/24000 [==============================] - 22s 927us/step - loss: 1.7456 - val_loss: 1.3047\n",
      "Epoch 46/50\n",
      "24000/24000 [==============================] - 22s 907us/step - loss: 1.7464 - val_loss: 1.2990\n",
      "Epoch 47/50\n",
      "24000/24000 [==============================] - 22s 929us/step - loss: 1.7400 - val_loss: 1.2973\n",
      "Epoch 48/50\n",
      "24000/24000 [==============================] - 22s 918us/step - loss: 1.7433 - val_loss: 1.2917\n",
      "Epoch 49/50\n",
      "24000/24000 [==============================] - 22s 910us/step - loss: 1.7440 - val_loss: 1.2902\n",
      "Epoch 50/50\n",
      "24000/24000 [==============================] - 22s 931us/step - loss: 1.7393 - val_loss: 1.2828\n"
     ]
    }
   ],
   "source": [
    "model.compile(optimizer='rmsprop', loss='categorical_crossentropy')\n",
    "\n",
    "history = model.fit([encoder_input_train, decoder_input_train],  # training data\n",
    "                      decoder_target_train,                       # labels (left shift of the target sequences)\n",
    "                      batch_size=64, epochs=50, \n",
    "                      validation_data= ([encoder_input_val, decoder_input_val],decoder_target_val))\n",
    "\n",
    "model.save('seq2seq_without_attention.h5')"
   ]
  },
  {
   "cell_type": "code",
   "execution_count": 18,
   "metadata": {},
   "outputs": [
    {
     "data": {
      "image/png": "[encoded data removed]",
      "text/plain": [
       "<Figure size 432x288 with 1 Axes>"
      ]
     },
     "metadata": {
      "needs_background": "light"
     },
     "output_type": "display_data"
    }
   ],
   "source": [
    "import matplotlib.pyplot as plt\n",
    "%matplotlib inline\n",
    "\n",
    "loss = history.history['loss']\n",
    "val_loss = history.history['val_loss']\n",
    "\n",
    "epochs = range(len(loss))\n",
    "\n",
    "plt.plot(epochs, loss, 'bo', label='Training Loss')\n",
    "plt.plot(epochs, val_loss, 'r', label='Validation Loss')\n",
    "plt.xlabel('Epochs')\n",
    "plt.ylabel('Loss')\n",
    "plt.legend()\n",
    "plt.show()"
   ]
  },
  {
   "cell_type": "markdown",
   "metadata": {},
   "source": [
    "### 4.2 Calculate BLEU Score on Val Part\n"
   ]
  },
  {
   "cell_type": "code",
   "execution_count": 19,
   "metadata": {},
   "outputs": [],
   "source": [
    "# Reverse-lookup token index to decode sequences back to something readable.\n",
    "reverse_input_char_index = dict((i, char) for char, i in input_token_index.items())\n",
    "reverse_target_char_index = dict((i, char) for char, i in target_token_index.items())"
   ]
  },
  {
   "cell_type": "code",
   "execution_count": 28,
   "metadata": {},
   "outputs": [],
   "source": [
    "def decode_sequence(input_seq):\n",
    "    states_value = encoder_model.predict(input_seq)\n",
    "\n",
    "    target_seq = np.zeros((1, 1, num_decoder_tokens))\n",
    "    target_seq[0, 0, target_token_index['\\t']] = 1.\n",
    "    \n",
    "    print(len(states_value.shape[0]))\n",
    "    print(target_seq.shape)\n",
    "    \n",
    "    stop_condition = False\n",
    "    decoded_sentence = ''\n",
    "    while not stop_condition:\n",
    "        output_tokens, h, c = decoder_model.predict([target_seq] + states_value)\n",
    "\n",
    "        # this line of code is greedy selection\n",
    "        # try to use multinomial sampling instead (with temperature)\n",
    "        sampled_token_index = np.argmax(output_tokens[0, -1, :])\n",
    "        if sampled_token_index == 0:\n",
    "            output_tokens[0, -1, sampled_token_index] = 0\n",
    "            sampled_token_index = np.argmax(output_tokens[0, -1, :])\n",
    "        sampled_char = reverse_target_char_index[sampled_token_index]\n",
    "        decoded_sentence += sampled_char\n",
    "\n",
    "        if (sampled_char == '\\n' or\n",
    "           len(decoded_sentence) > max_decoder_seq_length):\n",
    "            stop_condition = True\n",
    "\n",
    "        target_seq = np.zeros((1, 1, num_decoder_tokens))\n",
    "        target_seq[0, 0, sampled_token_index] = 1.\n",
    "\n",
    "        states_value = [h, c]\n",
    "\n",
    "    return decoded_sentence"
   ]
  },
  {
   "cell_type": "code",
   "execution_count": 29,
   "metadata": {},
   "outputs": [
    {
     "ename": "AttributeError",
     "evalue": "'list' object has no attribute 'shape'",
     "output_type": "error",
     "traceback": [
      "\u001b[0;31m--------------------------------------------------------------------------\u001b[0m",
      "\u001b[0;31mAttributeError\u001b[0m                           Traceback (most recent call last)",
      "\u001b[0;32m<ipython-input-29-e9fef02a8f84>\u001b[0m in \u001b[0;36m<module>\u001b[0;34m\u001b[0m\n\u001b[0;32m----> 1\u001b[0;31m \u001b[0mdecode_sequence\u001b[0m\u001b[0;34m(\u001b[0m\u001b[0mencoder_input_val\u001b[0m\u001b[0;34m[\u001b[0m\u001b[0;36m1\u001b[0m\u001b[0;34m:\u001b[0m \u001b[0;36m2\u001b[0m\u001b[0;34m]\u001b[0m\u001b[0;34m)\u001b[0m\u001b[0;34m\u001b[0m\u001b[0;34m\u001b[0m\u001b[0m\n\u001b[0m",
      "\u001b[0;32m<ipython-input-28-bc0eb63a1a60>\u001b[0m in \u001b[0;36mdecode_sequence\u001b[0;34m(input_seq)\u001b[0m\n\u001b[1;32m      5\u001b[0m     \u001b[0mtarget_seq\u001b[0m\u001b[0;34m[\u001b[0m\u001b[0;36m0\u001b[0m\u001b[0;34m,\u001b[0m \u001b[0;36m0\u001b[0m\u001b[0;34m,\u001b[0m \u001b[0mtarget_token_index\u001b[0m\u001b[0;34m[\u001b[0m\u001b[0;34m'\\t'\u001b[0m\u001b[0;34m]\u001b[0m\u001b[0;34m]\u001b[0m \u001b[0;34m=\u001b[0m \u001b[0;36m1.\u001b[0m\u001b[0;34m\u001b[0m\u001b[0;34m\u001b[0m\u001b[0m\n\u001b[1;32m      6\u001b[0m \u001b[0;34m\u001b[0m\u001b[0m\n\u001b[0;32m----> 7\u001b[0;31m     \u001b[0mprint\u001b[0m\u001b[0;34m(\u001b[0m\u001b[0mstates_value\u001b[0m\u001b[0;34m.\u001b[0m\u001b[0mshape\u001b[0m\u001b[0;34m(\u001b[0m\u001b[0;34m)\u001b[0m\u001b[0;34m)\u001b[0m\u001b[0;34m\u001b[0m\u001b[0;34m\u001b[0m\u001b[0m\n\u001b[0m\u001b[1;32m      8\u001b[0m     \u001b[0mprint\u001b[0m\u001b[0;34m(\u001b[0m\u001b[0mtarget_seq\u001b[0m\u001b[0;34m.\u001b[0m\u001b[0mshape\u001b[0m\u001b[0;34m(\u001b[0m\u001b[0;34m)\u001b[0m\u001b[0;34m)\u001b[0m\u001b[0;34m\u001b[0m\u001b[0;34m\u001b[0m\u001b[0m\n\u001b[1;32m      9\u001b[0m \u001b[0;34m\u001b[0m\u001b[0m\n",
      "\u001b[0;31mAttributeError\u001b[0m: 'list' object has no attribute 'shape'"
     ]
    }
   ],
   "source": [
    "decode_sequence(encoder_input_val[1: 2])"
   ]
  },
  {
   "cell_type": "code",
   "execution_count": 21,
   "metadata": {},
   "outputs": [],
   "source": [
    "decoded_sentences = []\n",
    "for i in range(encoder_input_val.shape[0]):\n",
    "    decoded_sentences.append(decode_sequence(encoder_input_val[i: i + 1]))"
   ]
  },
  {
   "cell_type": "code",
   "execution_count": 22,
   "metadata": {},
   "outputs": [
    {
     "name": "stdout",
     "output_type": "stream",
     "text": [
      "0.011371222841368092\n"
     ]
    }
   ],
   "source": [
    "from nltk.translate.bleu_score import sentence_bleu\n",
    "from nltk.translate.bleu_score import SmoothingFunction\n",
    "import nltk\n",
    "\n",
    "val_scores = []\n",
    "for i in range(target_texts_val.shape[0]):\n",
    "    references = []\n",
    "    split_result = target_texts_val[i][1:-1].split()\n",
    "    references.append(split_result)\n",
    "    candidate = decoded_sentences[i].split()\n",
    "    val_scores.append(sentence_bleu(references, candidate, smoothing_function=SmoothingFunction().method2))\n",
    "\n",
    "val_bleu_score = np.mean(val_scores)\n",
    "print(val_bleu_score)"
   ]
  },
  {
   "cell_type": "markdown",
   "metadata": {},
   "source": [
    "## 5. Testing"
   ]
  },
  {
   "cell_type": "markdown",
   "metadata": {},
   "source": [
    "* **We take 1000 sentences from 40000 to 41000 in original file as the test part**"
   ]
  },
  {
   "cell_type": "code",
   "execution_count": 23,
   "metadata": {},
   "outputs": [],
   "source": [
    "test_en = clean_data(en_lines)[data_len+10000:data_len+11000]\n",
    "test_fr = clean_data(fr_lines)[data_len+10000:data_len+11000]\n",
    "\n",
    "test_en = np.array(test_en)\n",
    "test_fr = np.array(test_fr)\n",
    "target_texts_test = ['\\t' + text + '\\n' for text in test_fr]"
   ]
  },
  {
   "cell_type": "code",
   "execution_count": 24,
   "metadata": {},
   "outputs": [],
   "source": [
    "def translation_sentence(input_sentence):\n",
    "    input_seq_test, test_input_token = text2sequences(len(input_sentence), input_sentence)\n",
    "    max_encoder_seq_length = max(len(line) for line in input_seq_test)\n",
    "    input_x = onehot_encode(input_seq_test, max_encoder_seq_length, num_encoder_tokens)\n",
    "    translated_sentence = decode_sequence(input_x)\n",
    "\n",
    "    return translated_sentence"
   ]
  },
  {
   "cell_type": "code",
   "execution_count": 25,
   "metadata": {},
   "outputs": [],
   "source": [
    "decoded_sentences = []\n",
    "scores_test = []\n",
    "for i in range(len(target_texts_test)):\n",
    "    candidate = translation_sentence(test_en[i])\n",
    "    decoded_sentences.append(candidate)\n",
    "    reference = target_texts_test[i]\n",
    "    score = sentence_bleu(reference, candidate, \n",
    "                          smoothing_function=SmoothingFunction().method2)\n",
    "    scores_test.append(score)"
   ]
  },
  {
   "cell_type": "code",
   "execution_count": 26,
   "metadata": {},
   "outputs": [
    {
     "name": "stdout",
     "output_type": "stream",
     "text": [
      "0.10233211411703365\n"
     ]
    }
   ],
   "source": [
    "test_bleu_score = np.mean(scores_test)\n",
    "print(test_bleu_score)"
   ]
  },
  {
   "cell_type": "markdown",
   "metadata": {},
   "source": [
    "## Save 20 Sentences Example¶\n"
   ]
  },
  {
   "cell_type": "code",
   "execution_count": 28,
   "metadata": {},
   "outputs": [
    {
     "name": "stdout",
     "output_type": "stream",
     "text": [
      "-\n",
      "English:        i think that the donor conference makes this possible or seems to at least\n",
      "Ground-truth Frehch:  je pense que la conference des donateurs offre ou semble offrir cette possibilite\n",
      "Translation from seq2seq model:  je peut est clos\n",
      "\n",
      "-\n",
      "English:        the third point i would like to make here is that there are parts of greece yes unfortunately greece for example the prefecture of pieria a tourist province in central macedonia which has suffered enormous economic damage because tourists no longer come to that area\n",
      "Ground-truth Frehch:  troisieme point il existe des parties de grece oui de grece malheureusement comme le nome de pierie un nome touristique de la macedoine centrale qui ont subi un enorme prejudice economique du fait que les visiteurs ont deserte la region\n",
      "Translation from seq2seq model:  je debat est clos\n",
      "\n",
      "-\n",
      "English:        such issues should be considered by the european union as well\n",
      "Ground-truth Frehch:  c est un probleme qu il convient aussi d examiner dans le cadre de l union europeenne\n",
      "Translation from seq2seq model:  je peut est clos\n",
      "\n",
      "-\n",
      "English:        mr president i am not about to start arguing the toss with mr swoboda over where the balkans begin\n",
      "Ground-truth Frehch:  monsieur le president je ne souhaite pas me disputer avec mon collegue swoboda sur la question de savoir ou commencent les balkans\n",
      "Translation from seq2seq model:  je debat est clos\n",
      "\n",
      "-\n",
      "English:        in fact it was once said that the balkans begin at the rennweg in vienna\n",
      "Ground-truth Frehch:  on a meme dit quils commencaient aux abords de vienne\n",
      "Translation from seq2seq model:  je peut est clos\n",
      "\n",
      "-\n",
      "English:        but leaving that aside the fact remains that this stability pact is of course adversely affected by the heterogeneity of its states\n",
      "Ground-truth Frehch:  mais si lon excepte cette question le fait est que ce pacte de stabilite souffre naturellement de lheterogeneite des etats concernes\n",
      "Translation from seq2seq model:  je debat est clos\n",
      "\n",
      "-\n",
      "English:        we have first and second wave candidate countries\n",
      "Ground-truth Frehch:  nous avons des pays candidats a ladhesion faisant partie du premier et du deuxieme groupe\n",
      "Translation from seq2seq model:  je peut est clos\n",
      "\n",
      "-\n",
      "English:        we have countries such as croatia and macedonia that are about to overtake candidate countries\n",
      "Ground-truth Frehch:  nous avons des pays comme la croatie et la macedoine qui sont sur le point de depasser les candidats a ladhesion\n",
      "Translation from seq2seq model:  je peut est clos\n",
      "\n",
      "-\n",
      "English:        we have states such as bosniaherzegovina and albania in which the state is scarcely functioning and then the two decisive challenges namely yugoslavia or serbia where it is a question of doing everything we can to foster democratisation and develop a longterm strategy for the europeanisation of serbia\n",
      "Ground-truth Frehch:  nous avons des pays comme la bosnieherzegovine et lalbanie dans lesquels letat fonctionne a peine et puis les deux defis decisifs a savoir la yougoslavie et la serbie ou il sagit dinstaurer fermement la democratisation et de developper une strategie a long terme sur leuropeanisation de la serbie\n",
      "Translation from seq2seq model:  je peut est le sout au sein de la c\n",
      "-\n",
      "English:        secondly kosovo where we will never achieve success unless elected political structures come into being there along with a longterm vision of what is to happen to this region which will never again be a serbian province\n",
      "Ground-truth Frehch:  deuxiemement le kosovo ou nous ne remporterons jamais aucun succes si aucune structure politique elue nest etablie labas et si aucune perspective nexiste sur ce quil adviendra a long terme de ce territoire qui ne sera plus jamais une province serbe\n",
      "Translation from seq2seq model:  je debat est clos\n",
      "\n",
      "-\n",
      "English:        we cannot afford to hang about over this issue any longer otherwise all we will be doing is tinkering about at the edges as it were\n",
      "Ground-truth Frehch:  nous ne devons plus tourner autour du pot sur cette question faute de quoi nous ne ferons que traiter les phenomenes superficiels\n",
      "Translation from seq2seq model:  je debat est clos\n",
      "\n",
      "-\n",
      "English:        but that is not the only factor adversely affecting the stability pact it is also suffering from a lack of credibility on the part of the international organisations and also the european union which owing to a confusion of competences wastage and mismanagement are displaying traits that would be dismissed as being typical of the balkans were it not for the fact that this is happening in our own organisations\n",
      "Ground-truth Frehch:  cependant le pacte de stabilite ne souffre pas seulement de cela mais egalement dun manque de credibilite dun manque de credibilite des organisations internationales ainsi que de lunion europeenne qui par la confusion des competences le gaspillage la mauvaise gestion vehiculent des notions que lon qualifierait de typiquement balkaniques si elles navaient pas lieu chez nous\n",
      "Translation from seq2seq model:  je pebat est clos\n",
      "\n",
      "-\n",
      "English:        we are losing a great deal in the way of credit and respect in this region and this respect and credibility are fundamentally even more important than the promises of funding that are made and then not kept\n",
      "Ground-truth Frehch:  nous perdons dans cette region enormement de credit de respect et ce respect et la credibilite sont au fond plus importants encore que les moyens financiers que lon promet et qui narrivent pas\n",
      "Translation from seq2seq model:  je debat est clos\n",
      "\n",
      "-\n",
      "English:        i truly believe we must put this situation in order in the european union primarily by strengthening the commission s role in the matter\n",
      "Ground-truth Frehch:  je suis vraiment davis que nous devons mettre de lordre dans lunion europeenne et cela passe avant tout par un renforcement de la commission a cet egard\n",
      "Translation from seq2seq model:  je debat est clos\n",
      "\n",
      "-\n",
      "English:        commissioner i have a great deal of faith in your work but i must say that we as a parliament must also ensure that you are able to give this work more indepth attention than you have been able to hitherto\n",
      "Ground-truth Frehch:  monsieur le commissaire jai une grande confiance dans votre travail mais je dois dire que nous en tant que parlement avons le devoir de veiller aussi a ce que vous puissiez faire avancer ce travail de maniere plus intensive que jusqua present\n",
      "Translation from seq2seq model:  je debat est clos\n",
      "\n",
      "-\n",
      "English:        what we need here is cooperation between our two institutions so as to strengthen the eu and its credibility\n",
      "Ground-truth Frehch:  a cet egard nous avons besoin dune cooperation entre nos deux institutions afin de renforcer lue et sa credibilite\n",
      "Translation from seq2seq model:  je debat est clos\n",
      "\n",
      "-\n",
      "English:        mr president i too consider this to be a satisfactory significant report\n",
      "Ground-truth Frehch:  monsieur le president je pense moi aussi qu il s agit d un rapport essentiel et correct\n",
      "Translation from seq2seq model:  je peut est clos\n",
      "\n",
      "-\n",
      "English:        i would however stress certain points\n",
      "Ground-truth Frehch:  je voudrais toutefois revenir brievement sur certains points\n",
      "Translation from seq2seq model:  je peut est clos\n",
      "\n",
      "-\n",
      "English:        we know that the countries of the southeast are a priority but we must be careful not to give ourselves more priorities than we can handle and not to establish conflicting priorities or we will lose credibility\n",
      "Ground-truth Frehch:  nous nous rappelons que les pays du sudest constituent une de nos priorites il faut cependant prendre garde a ne pas definir tellement de priorites que lon ne peut plus y repondre et a ne pas opposer deux priorites car nous y perdrions notre credibilite\n",
      "Translation from seq2seq model:  je debat est clos\n",
      "\n",
      "-\n",
      "English:        i refer to the mediterranean policy and the middle east peace process which are also priorities\n",
      "Ground-truth Frehch:  je pense ici a la politique mediterraneenne et au processus de paix au moyenorient qui constituent egalement des priorites\n",
      "Translation from seq2seq model:  je debat est clos\n",
      "\n"
     ]
    }
   ],
   "source": [
    "for i in range(20):\n",
    "    print('-')\n",
    "    print('English:       ', test_en[i])\n",
    "    print('Ground-truth Frehch: ', test_fr[i])\n",
    "    print('Translation from seq2seq model: ', decoded_sentences[i])"
   ]
  },
  {
   "cell_type": "code",
   "execution_count": 29,
   "metadata": {},
   "outputs": [],
   "source": [
    "with open('translation_without_attention.txt', 'w') as f:\n",
    "    for item in decoded_sentences:\n",
    "        f.write(\"%s\\n\" % item)"
   ]
  }
 ],
 "metadata": {
  "kernelspec": {
   "display_name": "Python 3",
   "language": "python",
   "name": "python3"
  },
  "language_info": {
   "codemirror_mode": {
    "name": "ipython",
    "version": 3
   },
   "file_extension": ".py",
   "mimetype": "text/x-python",
   "name": "python",
   "nbconvert_exporter": "python",
   "pygments_lexer": "ipython3",
   "version": "3.7.4"
  }
 },
 "nbformat": 4,
 "nbformat_minor": 4
}
